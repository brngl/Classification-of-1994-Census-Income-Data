{
  "nbformat": 4,
  "nbformat_minor": 0,
  "metadata": {
    "kernelspec": {
      "name": "python3",
      "display_name": "Python 3"
    },
    "language_info": {
      "codemirror_mode": {
        "name": "ipython",
        "version": 3
      },
      "file_extension": ".py",
      "mimetype": "text/x-python",
      "name": "python",
      "nbconvert_exporter": "python",
      "pygments_lexer": "ipython3",
      "version": "3.6.9"
    },
    "colab": {
      "name": "Classification-of-1994-Census-Income-Data.ipynb",
      "provenance": [],
      "collapsed_sections": [],
      "include_colab_link": true
    },
    "accelerator": "GPU"
  },
  "cells": [
    {
      "cell_type": "markdown",
      "metadata": {
        "id": "view-in-github",
        "colab_type": "text"
      },
      "source": [
        "<a href=\"https://colab.research.google.com/github/brngl/Classification-of-1994-Census-Income-Data/blob/master/Classification_of_1994_Census_Income_Data.ipynb\" target=\"_parent\"><img src=\"https://colab.research.google.com/assets/colab-badge.svg\" alt=\"Open In Colab\"/></a>"
      ]
    },
    {
      "cell_type": "code",
      "metadata": {
        "id": "9lfJ8a16rZaN",
        "colab_type": "code",
        "colab": {}
      },
      "source": [
        "import numpy as np\n",
        "import pandas as pd\n",
        "import matplotlib.pyplot as plt\n",
        "import bokeh"
      ],
      "execution_count": 0,
      "outputs": []
    },
    {
      "cell_type": "markdown",
      "metadata": {
        "id": "yqdcwfDArZae",
        "colab_type": "text"
      },
      "source": [
        "# Loading dataset and update DataFrame with adequate column names\n",
        "\n",
        "Dataset from: https://archive.ics.uci.edu/ml/datasets/census+income"
      ]
    },
    {
      "cell_type": "code",
      "metadata": {
        "id": "hCuw71xar2iw",
        "colab_type": "code",
        "colab": {
          "base_uri": "https://localhost:8080/",
          "height": 421
        },
        "outputId": "7237cdbe-5f83-40b8-dd40-89eda213c76c"
      },
      "source": [
        "!wget https://archive.ics.uci.edu/ml/machine-learning-databases/adult/adult.data\n",
        "!wget https://archive.ics.uci.edu/ml/machine-learning-databases/adult/adult.test"
      ],
      "execution_count": 2,
      "outputs": [
        {
          "output_type": "stream",
          "text": [
            "--2020-02-05 00:17:13--  https://archive.ics.uci.edu/ml/machine-learning-databases/adult/adult.data\n",
            "Resolving archive.ics.uci.edu (archive.ics.uci.edu)... 128.195.10.252\n",
            "Connecting to archive.ics.uci.edu (archive.ics.uci.edu)|128.195.10.252|:443... connected.\n",
            "HTTP request sent, awaiting response... 200 OK\n",
            "Length: 3974305 (3.8M) [application/x-httpd-php]\n",
            "Saving to: ‘adult.data’\n",
            "\n",
            "\radult.data            0%[                    ]       0  --.-KB/s               \radult.data           21%[===>                ] 829.50K  3.80MB/s               \radult.data          100%[===================>]   3.79M  13.2MB/s    in 0.3s    \n",
            "\n",
            "2020-02-05 00:17:14 (13.2 MB/s) - ‘adult.data’ saved [3974305/3974305]\n",
            "\n",
            "--2020-02-05 00:17:15--  https://archive.ics.uci.edu/ml/machine-learning-databases/adult/adult.test\n",
            "Resolving archive.ics.uci.edu (archive.ics.uci.edu)... 128.195.10.252\n",
            "Connecting to archive.ics.uci.edu (archive.ics.uci.edu)|128.195.10.252|:443... connected.\n",
            "HTTP request sent, awaiting response... 200 OK\n",
            "Length: 2003153 (1.9M) [application/x-httpd-php]\n",
            "Saving to: ‘adult.test’\n",
            "\n",
            "adult.test          100%[===================>]   1.91M  7.48MB/s    in 0.3s    \n",
            "\n",
            "2020-02-05 00:17:16 (7.48 MB/s) - ‘adult.test’ saved [2003153/2003153]\n",
            "\n"
          ],
          "name": "stdout"
        }
      ]
    },
    {
      "cell_type": "code",
      "metadata": {
        "id": "oXFeqNB3rZao",
        "colab_type": "code",
        "colab": {}
      },
      "source": [
        "data_train = pd.read_csv('adult.data')\n",
        "data_test = pd.read_csv('adult.test')\n",
        "data_columns = 'age,workclass,fnlwgt,education,education-num,marital-status,occupation,relationship,race,sex,capital-gain,capital-loss,hours-per-week,native-country,income'.split(',')"
      ],
      "execution_count": 0,
      "outputs": []
    },
    {
      "cell_type": "code",
      "metadata": {
        "id": "3HMELvAbrZa0",
        "colab_type": "code",
        "colab": {
          "base_uri": "https://localhost:8080/",
          "height": 293
        },
        "outputId": "89adc045-4569-46b3-875e-c49491726702"
      },
      "source": [
        "data_columns"
      ],
      "execution_count": 4,
      "outputs": [
        {
          "output_type": "execute_result",
          "data": {
            "text/plain": [
              "['age',\n",
              " 'workclass',\n",
              " 'fnlwgt',\n",
              " 'education',\n",
              " 'education-num',\n",
              " 'marital-status',\n",
              " 'occupation',\n",
              " 'relationship',\n",
              " 'race',\n",
              " 'sex',\n",
              " 'capital-gain',\n",
              " 'capital-loss',\n",
              " 'hours-per-week',\n",
              " 'native-country',\n",
              " 'income']"
            ]
          },
          "metadata": {
            "tags": []
          },
          "execution_count": 4
        }
      ]
    },
    {
      "cell_type": "code",
      "metadata": {
        "id": "xaYrNB1CrZbB",
        "colab_type": "code",
        "colab": {}
      },
      "source": [
        "train = data_train.copy()\n",
        "test = data_test.copy()"
      ],
      "execution_count": 0,
      "outputs": []
    },
    {
      "cell_type": "code",
      "metadata": {
        "id": "DYYwdqILrZbM",
        "colab_type": "code",
        "colab": {
          "base_uri": "https://localhost:8080/",
          "height": 35
        },
        "outputId": "e99f138b-18a3-4cb8-f5bf-e1b624309983"
      },
      "source": [
        "test.shape"
      ],
      "execution_count": 6,
      "outputs": [
        {
          "output_type": "execute_result",
          "data": {
            "text/plain": [
              "(16281, 1)"
            ]
          },
          "metadata": {
            "tags": []
          },
          "execution_count": 6
        }
      ]
    },
    {
      "cell_type": "code",
      "metadata": {
        "id": "zIhPqcGnrZbY",
        "colab_type": "code",
        "colab": {
          "base_uri": "https://localhost:8080/",
          "height": 206
        },
        "outputId": "d901773e-103c-4239-8198-39c7117b3cc3"
      },
      "source": [
        "train.head()"
      ],
      "execution_count": 7,
      "outputs": [
        {
          "output_type": "execute_result",
          "data": {
            "text/html": [
              "<div>\n",
              "<style scoped>\n",
              "    .dataframe tbody tr th:only-of-type {\n",
              "        vertical-align: middle;\n",
              "    }\n",
              "\n",
              "    .dataframe tbody tr th {\n",
              "        vertical-align: top;\n",
              "    }\n",
              "\n",
              "    .dataframe thead th {\n",
              "        text-align: right;\n",
              "    }\n",
              "</style>\n",
              "<table border=\"1\" class=\"dataframe\">\n",
              "  <thead>\n",
              "    <tr style=\"text-align: right;\">\n",
              "      <th></th>\n",
              "      <th>39</th>\n",
              "      <th>State-gov</th>\n",
              "      <th>77516</th>\n",
              "      <th>Bachelors</th>\n",
              "      <th>13</th>\n",
              "      <th>Never-married</th>\n",
              "      <th>Adm-clerical</th>\n",
              "      <th>Not-in-family</th>\n",
              "      <th>White</th>\n",
              "      <th>Male</th>\n",
              "      <th>2174</th>\n",
              "      <th>0</th>\n",
              "      <th>40</th>\n",
              "      <th>United-States</th>\n",
              "      <th>&lt;=50K</th>\n",
              "    </tr>\n",
              "  </thead>\n",
              "  <tbody>\n",
              "    <tr>\n",
              "      <th>0</th>\n",
              "      <td>50</td>\n",
              "      <td>Self-emp-not-inc</td>\n",
              "      <td>83311</td>\n",
              "      <td>Bachelors</td>\n",
              "      <td>13</td>\n",
              "      <td>Married-civ-spouse</td>\n",
              "      <td>Exec-managerial</td>\n",
              "      <td>Husband</td>\n",
              "      <td>White</td>\n",
              "      <td>Male</td>\n",
              "      <td>0</td>\n",
              "      <td>0</td>\n",
              "      <td>13</td>\n",
              "      <td>United-States</td>\n",
              "      <td>&lt;=50K</td>\n",
              "    </tr>\n",
              "    <tr>\n",
              "      <th>1</th>\n",
              "      <td>38</td>\n",
              "      <td>Private</td>\n",
              "      <td>215646</td>\n",
              "      <td>HS-grad</td>\n",
              "      <td>9</td>\n",
              "      <td>Divorced</td>\n",
              "      <td>Handlers-cleaners</td>\n",
              "      <td>Not-in-family</td>\n",
              "      <td>White</td>\n",
              "      <td>Male</td>\n",
              "      <td>0</td>\n",
              "      <td>0</td>\n",
              "      <td>40</td>\n",
              "      <td>United-States</td>\n",
              "      <td>&lt;=50K</td>\n",
              "    </tr>\n",
              "    <tr>\n",
              "      <th>2</th>\n",
              "      <td>53</td>\n",
              "      <td>Private</td>\n",
              "      <td>234721</td>\n",
              "      <td>11th</td>\n",
              "      <td>7</td>\n",
              "      <td>Married-civ-spouse</td>\n",
              "      <td>Handlers-cleaners</td>\n",
              "      <td>Husband</td>\n",
              "      <td>Black</td>\n",
              "      <td>Male</td>\n",
              "      <td>0</td>\n",
              "      <td>0</td>\n",
              "      <td>40</td>\n",
              "      <td>United-States</td>\n",
              "      <td>&lt;=50K</td>\n",
              "    </tr>\n",
              "    <tr>\n",
              "      <th>3</th>\n",
              "      <td>28</td>\n",
              "      <td>Private</td>\n",
              "      <td>338409</td>\n",
              "      <td>Bachelors</td>\n",
              "      <td>13</td>\n",
              "      <td>Married-civ-spouse</td>\n",
              "      <td>Prof-specialty</td>\n",
              "      <td>Wife</td>\n",
              "      <td>Black</td>\n",
              "      <td>Female</td>\n",
              "      <td>0</td>\n",
              "      <td>0</td>\n",
              "      <td>40</td>\n",
              "      <td>Cuba</td>\n",
              "      <td>&lt;=50K</td>\n",
              "    </tr>\n",
              "    <tr>\n",
              "      <th>4</th>\n",
              "      <td>37</td>\n",
              "      <td>Private</td>\n",
              "      <td>284582</td>\n",
              "      <td>Masters</td>\n",
              "      <td>14</td>\n",
              "      <td>Married-civ-spouse</td>\n",
              "      <td>Exec-managerial</td>\n",
              "      <td>Wife</td>\n",
              "      <td>White</td>\n",
              "      <td>Female</td>\n",
              "      <td>0</td>\n",
              "      <td>0</td>\n",
              "      <td>40</td>\n",
              "      <td>United-States</td>\n",
              "      <td>&lt;=50K</td>\n",
              "    </tr>\n",
              "  </tbody>\n",
              "</table>\n",
              "</div>"
            ],
            "text/plain": [
              "   39          State-gov   77516   Bachelors  ...   0  40   United-States   <=50K\n",
              "0  50   Self-emp-not-inc   83311   Bachelors  ...   0  13   United-States   <=50K\n",
              "1  38            Private  215646     HS-grad  ...   0  40   United-States   <=50K\n",
              "2  53            Private  234721        11th  ...   0  40   United-States   <=50K\n",
              "3  28            Private  338409   Bachelors  ...   0  40            Cuba   <=50K\n",
              "4  37            Private  284582     Masters  ...   0  40   United-States   <=50K\n",
              "\n",
              "[5 rows x 15 columns]"
            ]
          },
          "metadata": {
            "tags": []
          },
          "execution_count": 7
        }
      ]
    },
    {
      "cell_type": "code",
      "metadata": {
        "id": "GSww9iaSrZbh",
        "colab_type": "code",
        "colab": {}
      },
      "source": [
        "train.columns = data_columns\n",
        "#test.columns = data_columns"
      ],
      "execution_count": 0,
      "outputs": []
    },
    {
      "cell_type": "code",
      "metadata": {
        "id": "NXRm8y4_rZbp",
        "colab_type": "code",
        "colab": {}
      },
      "source": [
        "t = train['income'] == ' >50K'"
      ],
      "execution_count": 0,
      "outputs": []
    },
    {
      "cell_type": "code",
      "metadata": {
        "id": "TvE_SFgirZby",
        "colab_type": "code",
        "colab": {
          "base_uri": "https://localhost:8080/",
          "height": 35
        },
        "outputId": "0d9ee454-9b3a-478b-e8d4-d988e3722fca"
      },
      "source": [
        "t.unique()"
      ],
      "execution_count": 10,
      "outputs": [
        {
          "output_type": "execute_result",
          "data": {
            "text/plain": [
              "array([False,  True])"
            ]
          },
          "metadata": {
            "tags": []
          },
          "execution_count": 10
        }
      ]
    },
    {
      "cell_type": "code",
      "metadata": {
        "id": "H-Qx52jWrZb7",
        "colab_type": "code",
        "colab": {
          "base_uri": "https://localhost:8080/",
          "height": 35
        },
        "outputId": "9f82e79a-c125-4c08-d814-c08752a76d4c"
      },
      "source": [
        "train['income'].any()"
      ],
      "execution_count": 11,
      "outputs": [
        {
          "output_type": "execute_result",
          "data": {
            "text/plain": [
              "' <=50K'"
            ]
          },
          "metadata": {
            "tags": []
          },
          "execution_count": 11
        }
      ]
    },
    {
      "cell_type": "code",
      "metadata": {
        "id": "3gzPODAyrZcG",
        "colab_type": "code",
        "colab": {}
      },
      "source": [
        "train['income'] = t"
      ],
      "execution_count": 0,
      "outputs": []
    },
    {
      "cell_type": "code",
      "metadata": {
        "id": "KfuvHZMyrZcP",
        "colab_type": "code",
        "colab": {
          "base_uri": "https://localhost:8080/",
          "height": 328
        },
        "outputId": "084294bb-0d86-4476-98bc-229d8e29e1d8"
      },
      "source": [
        "train.head()"
      ],
      "execution_count": 13,
      "outputs": [
        {
          "output_type": "execute_result",
          "data": {
            "text/html": [
              "<div>\n",
              "<style scoped>\n",
              "    .dataframe tbody tr th:only-of-type {\n",
              "        vertical-align: middle;\n",
              "    }\n",
              "\n",
              "    .dataframe tbody tr th {\n",
              "        vertical-align: top;\n",
              "    }\n",
              "\n",
              "    .dataframe thead th {\n",
              "        text-align: right;\n",
              "    }\n",
              "</style>\n",
              "<table border=\"1\" class=\"dataframe\">\n",
              "  <thead>\n",
              "    <tr style=\"text-align: right;\">\n",
              "      <th></th>\n",
              "      <th>age</th>\n",
              "      <th>workclass</th>\n",
              "      <th>fnlwgt</th>\n",
              "      <th>education</th>\n",
              "      <th>education-num</th>\n",
              "      <th>marital-status</th>\n",
              "      <th>occupation</th>\n",
              "      <th>relationship</th>\n",
              "      <th>race</th>\n",
              "      <th>sex</th>\n",
              "      <th>capital-gain</th>\n",
              "      <th>capital-loss</th>\n",
              "      <th>hours-per-week</th>\n",
              "      <th>native-country</th>\n",
              "      <th>income</th>\n",
              "    </tr>\n",
              "  </thead>\n",
              "  <tbody>\n",
              "    <tr>\n",
              "      <th>0</th>\n",
              "      <td>50</td>\n",
              "      <td>Self-emp-not-inc</td>\n",
              "      <td>83311</td>\n",
              "      <td>Bachelors</td>\n",
              "      <td>13</td>\n",
              "      <td>Married-civ-spouse</td>\n",
              "      <td>Exec-managerial</td>\n",
              "      <td>Husband</td>\n",
              "      <td>White</td>\n",
              "      <td>Male</td>\n",
              "      <td>0</td>\n",
              "      <td>0</td>\n",
              "      <td>13</td>\n",
              "      <td>United-States</td>\n",
              "      <td>False</td>\n",
              "    </tr>\n",
              "    <tr>\n",
              "      <th>1</th>\n",
              "      <td>38</td>\n",
              "      <td>Private</td>\n",
              "      <td>215646</td>\n",
              "      <td>HS-grad</td>\n",
              "      <td>9</td>\n",
              "      <td>Divorced</td>\n",
              "      <td>Handlers-cleaners</td>\n",
              "      <td>Not-in-family</td>\n",
              "      <td>White</td>\n",
              "      <td>Male</td>\n",
              "      <td>0</td>\n",
              "      <td>0</td>\n",
              "      <td>40</td>\n",
              "      <td>United-States</td>\n",
              "      <td>False</td>\n",
              "    </tr>\n",
              "    <tr>\n",
              "      <th>2</th>\n",
              "      <td>53</td>\n",
              "      <td>Private</td>\n",
              "      <td>234721</td>\n",
              "      <td>11th</td>\n",
              "      <td>7</td>\n",
              "      <td>Married-civ-spouse</td>\n",
              "      <td>Handlers-cleaners</td>\n",
              "      <td>Husband</td>\n",
              "      <td>Black</td>\n",
              "      <td>Male</td>\n",
              "      <td>0</td>\n",
              "      <td>0</td>\n",
              "      <td>40</td>\n",
              "      <td>United-States</td>\n",
              "      <td>False</td>\n",
              "    </tr>\n",
              "    <tr>\n",
              "      <th>3</th>\n",
              "      <td>28</td>\n",
              "      <td>Private</td>\n",
              "      <td>338409</td>\n",
              "      <td>Bachelors</td>\n",
              "      <td>13</td>\n",
              "      <td>Married-civ-spouse</td>\n",
              "      <td>Prof-specialty</td>\n",
              "      <td>Wife</td>\n",
              "      <td>Black</td>\n",
              "      <td>Female</td>\n",
              "      <td>0</td>\n",
              "      <td>0</td>\n",
              "      <td>40</td>\n",
              "      <td>Cuba</td>\n",
              "      <td>False</td>\n",
              "    </tr>\n",
              "    <tr>\n",
              "      <th>4</th>\n",
              "      <td>37</td>\n",
              "      <td>Private</td>\n",
              "      <td>284582</td>\n",
              "      <td>Masters</td>\n",
              "      <td>14</td>\n",
              "      <td>Married-civ-spouse</td>\n",
              "      <td>Exec-managerial</td>\n",
              "      <td>Wife</td>\n",
              "      <td>White</td>\n",
              "      <td>Female</td>\n",
              "      <td>0</td>\n",
              "      <td>0</td>\n",
              "      <td>40</td>\n",
              "      <td>United-States</td>\n",
              "      <td>False</td>\n",
              "    </tr>\n",
              "  </tbody>\n",
              "</table>\n",
              "</div>"
            ],
            "text/plain": [
              "   age          workclass  fnlwgt  ... hours-per-week  native-country income\n",
              "0   50   Self-emp-not-inc   83311  ...             13   United-States  False\n",
              "1   38            Private  215646  ...             40   United-States  False\n",
              "2   53            Private  234721  ...             40   United-States  False\n",
              "3   28            Private  338409  ...             40            Cuba  False\n",
              "4   37            Private  284582  ...             40   United-States  False\n",
              "\n",
              "[5 rows x 15 columns]"
            ]
          },
          "metadata": {
            "tags": []
          },
          "execution_count": 13
        }
      ]
    },
    {
      "cell_type": "markdown",
      "metadata": {
        "id": "n8GwqyiprZcY",
        "colab_type": "text"
      },
      "source": [
        "# After trasformation, '>50':True; '<=50':False"
      ]
    },
    {
      "cell_type": "code",
      "metadata": {
        "id": "7jF-QhdnrZcc",
        "colab_type": "code",
        "colab": {
          "base_uri": "https://localhost:8080/",
          "height": 368
        },
        "outputId": "442489cf-2559-4e90-9653-6d6012af4874"
      },
      "source": [
        "g = train==' ?'\n",
        "g.sum()"
      ],
      "execution_count": 14,
      "outputs": [
        {
          "output_type": "stream",
          "text": [
            "/usr/local/lib/python3.6/dist-packages/pandas/core/ops/__init__.py:1115: FutureWarning: elementwise comparison failed; returning scalar instead, but in the future will perform elementwise comparison\n",
            "  result = method(y)\n"
          ],
          "name": "stderr"
        },
        {
          "output_type": "execute_result",
          "data": {
            "text/plain": [
              "age                  0\n",
              "workclass         1836\n",
              "fnlwgt               0\n",
              "education            0\n",
              "education-num        0\n",
              "marital-status       0\n",
              "occupation        1843\n",
              "relationship         0\n",
              "race                 0\n",
              "sex                  0\n",
              "capital-gain         0\n",
              "capital-loss         0\n",
              "hours-per-week       0\n",
              "native-country     583\n",
              "income               0\n",
              "dtype: int64"
            ]
          },
          "metadata": {
            "tags": []
          },
          "execution_count": 14
        }
      ]
    },
    {
      "cell_type": "code",
      "metadata": {
        "id": "UNFt-ev9rZcj",
        "colab_type": "code",
        "colab": {
          "base_uri": "https://localhost:8080/",
          "height": 72
        },
        "outputId": "ab748fc0-d258-4454-8001-0e910d8b4288"
      },
      "source": [
        "train['workclass'].unique()"
      ],
      "execution_count": 15,
      "outputs": [
        {
          "output_type": "execute_result",
          "data": {
            "text/plain": [
              "array([' Self-emp-not-inc', ' Private', ' State-gov', ' Federal-gov',\n",
              "       ' Local-gov', ' ?', ' Self-emp-inc', ' Without-pay',\n",
              "       ' Never-worked'], dtype=object)"
            ]
          },
          "metadata": {
            "tags": []
          },
          "execution_count": 15
        }
      ]
    },
    {
      "cell_type": "code",
      "metadata": {
        "id": "X-TQDPIarZcq",
        "colab_type": "code",
        "colab": {
          "base_uri": "https://localhost:8080/",
          "height": 109
        },
        "outputId": "e8e12931-049f-490b-aa58-8a1949265a27"
      },
      "source": [
        "train['occupation'].unique()"
      ],
      "execution_count": 16,
      "outputs": [
        {
          "output_type": "execute_result",
          "data": {
            "text/plain": [
              "array([' Exec-managerial', ' Handlers-cleaners', ' Prof-specialty',\n",
              "       ' Other-service', ' Adm-clerical', ' Sales', ' Craft-repair',\n",
              "       ' Transport-moving', ' Farming-fishing', ' Machine-op-inspct',\n",
              "       ' Tech-support', ' ?', ' Protective-serv', ' Armed-Forces',\n",
              "       ' Priv-house-serv'], dtype=object)"
            ]
          },
          "metadata": {
            "tags": []
          },
          "execution_count": 16
        }
      ]
    },
    {
      "cell_type": "code",
      "metadata": {
        "id": "UFSBoQsmrZcy",
        "colab_type": "code",
        "colab": {
          "base_uri": "https://localhost:8080/",
          "height": 182
        },
        "outputId": "b967463f-93d2-4a2d-e5ad-17f50d1a3fa8"
      },
      "source": [
        "train['native-country'].unique()"
      ],
      "execution_count": 17,
      "outputs": [
        {
          "output_type": "execute_result",
          "data": {
            "text/plain": [
              "array([' United-States', ' Cuba', ' Jamaica', ' India', ' ?', ' Mexico',\n",
              "       ' South', ' Puerto-Rico', ' Honduras', ' England', ' Canada',\n",
              "       ' Germany', ' Iran', ' Philippines', ' Italy', ' Poland',\n",
              "       ' Columbia', ' Cambodia', ' Thailand', ' Ecuador', ' Laos',\n",
              "       ' Taiwan', ' Haiti', ' Portugal', ' Dominican-Republic',\n",
              "       ' El-Salvador', ' France', ' Guatemala', ' China', ' Japan',\n",
              "       ' Yugoslavia', ' Peru', ' Outlying-US(Guam-USVI-etc)', ' Scotland',\n",
              "       ' Trinadad&Tobago', ' Greece', ' Nicaragua', ' Vietnam', ' Hong',\n",
              "       ' Ireland', ' Hungary', ' Holand-Netherlands'], dtype=object)"
            ]
          },
          "metadata": {
            "tags": []
          },
          "execution_count": 17
        }
      ]
    },
    {
      "cell_type": "markdown",
      "metadata": {
        "id": "rTAXh21YrZc4",
        "colab_type": "text"
      },
      "source": [
        "# Deleting '?' values standing for NA values"
      ]
    },
    {
      "cell_type": "code",
      "metadata": {
        "id": "EY3wN30erZc7",
        "colab_type": "code",
        "colab": {
          "base_uri": "https://localhost:8080/",
          "height": 35
        },
        "outputId": "53ff940e-cf3b-4ea6-e12b-81bc0dc55ad6"
      },
      "source": [
        "i = train.loc[train['native-country'] == ' ?'].index\n",
        "train_drop = train.drop(index=i)\n",
        "train_drop.shape"
      ],
      "execution_count": 18,
      "outputs": [
        {
          "output_type": "execute_result",
          "data": {
            "text/plain": [
              "(31977, 15)"
            ]
          },
          "metadata": {
            "tags": []
          },
          "execution_count": 18
        }
      ]
    },
    {
      "cell_type": "code",
      "metadata": {
        "id": "nX_03E2_rZdD",
        "colab_type": "code",
        "colab": {
          "base_uri": "https://localhost:8080/",
          "height": 35
        },
        "outputId": "c9a5cebe-3d60-4d74-b513-d5fedd759546"
      },
      "source": [
        "i = train.loc[train['occupation'] == ' ?'].index\n",
        "train_drop = train.drop(index=i)\n",
        "train_drop.shape"
      ],
      "execution_count": 19,
      "outputs": [
        {
          "output_type": "execute_result",
          "data": {
            "text/plain": [
              "(30717, 15)"
            ]
          },
          "metadata": {
            "tags": []
          },
          "execution_count": 19
        }
      ]
    },
    {
      "cell_type": "code",
      "metadata": {
        "id": "iU4AMI8HrZdL",
        "colab_type": "code",
        "colab": {
          "base_uri": "https://localhost:8080/",
          "height": 35
        },
        "outputId": "2766a474-30e3-41f4-8c80-a7be6aec0807"
      },
      "source": [
        "i = train.loc[train['workclass'] == ' ?'].index\n",
        "train_drop = train.drop(index=i)\n",
        "train_drop.shape"
      ],
      "execution_count": 20,
      "outputs": [
        {
          "output_type": "execute_result",
          "data": {
            "text/plain": [
              "(30724, 15)"
            ]
          },
          "metadata": {
            "tags": []
          },
          "execution_count": 20
        }
      ]
    },
    {
      "cell_type": "markdown",
      "metadata": {
        "id": "VRtGWPght4yQ",
        "colab_type": "text"
      },
      "source": [
        "# Feature exploration for income value.\n"
      ]
    },
    {
      "cell_type": "code",
      "metadata": {
        "id": "w_9Y6S1brZdS",
        "colab_type": "code",
        "colab": {}
      },
      "source": [
        "def show_bars(dat1, dat2, title, bins, ylabel='Number of people'):\n",
        "    fig = plt.figure(figsize=(20,20))\n",
        "    ax1 = fig.add_subplot()\n",
        "    dat1.hist(color='g', bins=bins)\n",
        "    ax2 = fig.add_subplot()\n",
        "    dat2.hist(color='r', bins=bins)\n",
        "    plt.legend(('<=50K', '>50K'))\n",
        "    plt.title(title)\n",
        "    plt.ylabel(ylabel)\n",
        "    plt.show()\n",
        "    \n",
        "def show_boxes(dat1, dat2, title, ylabel='Number of people'):\n",
        "    fig, ax = plt.subplots(figsize=(20,20))\n",
        "    ax.set_title(title)\n",
        "    plt.xticks([], ('<=50K', '>50K'))\n",
        "    plt.ylabel(ylabel)\n",
        "    ax.boxplot([dat1, dat2])\n",
        "    plt.show()"
      ],
      "execution_count": 0,
      "outputs": []
    },
    {
      "cell_type": "code",
      "metadata": {
        "id": "XGuD90_wrZdZ",
        "colab_type": "code",
        "colab": {}
      },
      "source": [
        "gt = train_drop[train_drop['income'] == True]\n",
        "ageG = gt['age']\n",
        "lt = train_drop[train_drop['income'] == False]\n",
        "ageL = lt['age']"
      ],
      "execution_count": 0,
      "outputs": []
    },
    {
      "cell_type": "code",
      "metadata": {
        "id": "5D24o0MyrZdk",
        "colab_type": "code",
        "colab": {
          "base_uri": "https://localhost:8080/",
          "height": 237
        },
        "outputId": "fac7bdc7-d1be-4902-a13f-c447316581ff"
      },
      "source": [
        "ageG"
      ],
      "execution_count": 23,
      "outputs": [
        {
          "output_type": "execute_result",
          "data": {
            "text/plain": [
              "6        52\n",
              "7        31\n",
              "8        42\n",
              "9        37\n",
              "10       30\n",
              "         ..\n",
              "32537    38\n",
              "32544    39\n",
              "32553    53\n",
              "32556    40\n",
              "32559    52\n",
              "Name: age, Length: 7650, dtype: int64"
            ]
          },
          "metadata": {
            "tags": []
          },
          "execution_count": 23
        }
      ]
    },
    {
      "cell_type": "code",
      "metadata": {
        "id": "sCm1kw0orZdr",
        "colab_type": "code",
        "colab": {
          "base_uri": "https://localhost:8080/",
          "height": 1000
        },
        "outputId": "0d701762-511b-4819-f0b8-f943ae570452"
      },
      "source": [
        "show_boxes(ageL, ageG, 'Income per age')"
      ],
      "execution_count": 24,
      "outputs": [
        {
          "output_type": "display_data",
          "data": {
            "image/png": "[encoded data removed]",
            "text/plain": [
              "<Figure size 1440x1440 with 1 Axes>"
            ]
          },
          "metadata": {
            "tags": []
          }
        }
      ]
    },
    {
      "cell_type": "code",
      "metadata": {
        "id": "RL2d6yZPrZdx",
        "colab_type": "code",
        "colab": {
          "base_uri": "https://localhost:8080/",
          "height": 35
        },
        "outputId": "b6d123b3-b414-4ed6-dde2-db27502e7fde"
      },
      "source": [
        "ageG.unique().shape"
      ],
      "execution_count": 25,
      "outputs": [
        {
          "output_type": "execute_result",
          "data": {
            "text/plain": [
              "(65,)"
            ]
          },
          "metadata": {
            "tags": []
          },
          "execution_count": 25
        }
      ]
    },
    {
      "cell_type": "code",
      "metadata": {
        "id": "AADkxwcCrZd3",
        "colab_type": "code",
        "colab": {
          "base_uri": "https://localhost:8080/",
          "height": 1000
        },
        "outputId": "768b7aae-87f6-4eaa-a773-3a34685df7e2"
      },
      "source": [
        "show_bars(ageL, ageG, 'Income per age', bins=8)"
      ],
      "execution_count": 26,
      "outputs": [
        {
          "output_type": "stream",
          "text": [
            "/usr/local/lib/python3.6/dist-packages/ipykernel_launcher.py:5: MatplotlibDeprecationWarning: Adding an axes using the same arguments as a previous axes currently reuses the earlier instance.  In a future version, a new instance will always be created and returned.  Meanwhile, this warning can be suppressed, and the future behavior ensured, by passing a unique label to each axes instance.\n",
            "  \"\"\"\n"
          ],
          "name": "stderr"
        },
        {
          "output_type": "display_data",
          "data": {
            "image/png": "[encoded data removed]",
            "text/plain": [
              "<Figure size 1440x1440 with 1 Axes>"
            ]
          },
          "metadata": {
            "tags": []
          }
        }
      ]
    },
    {
      "cell_type": "markdown",
      "metadata": {
        "id": "rZkHdTXrrZd9",
        "colab_type": "text"
      },
      "source": [
        "# Years of education\n"
      ]
    },
    {
      "cell_type": "code",
      "metadata": {
        "id": "JLSTiQizrZd_",
        "colab_type": "code",
        "colab": {}
      },
      "source": [
        "eduG = gt['education-num']\n",
        "eduL = lt['education-num']"
      ],
      "execution_count": 0,
      "outputs": []
    },
    {
      "cell_type": "code",
      "metadata": {
        "id": "gbcI7S8CrZeE",
        "colab_type": "code",
        "colab": {
          "base_uri": "https://localhost:8080/",
          "height": 1000
        },
        "outputId": "a1586f3f-7e31-4207-ac44-2c82fd86250b"
      },
      "source": [
        "show_boxes(eduL, eduG, 'Income per education-num')"
      ],
      "execution_count": 28,
      "outputs": [
        {
          "output_type": "display_data",
          "data": {
            "image/png": "[encoded data removed]",
            "text/plain": [
              "<Figure size 1440x1440 with 1 Axes>"
            ]
          },
          "metadata": {
            "tags": []
          }
        }
      ]
    },
    {
      "cell_type": "code",
      "metadata": {
        "id": "7VcwDCAprZeJ",
        "colab_type": "code",
        "colab": {
          "base_uri": "https://localhost:8080/",
          "height": 1000
        },
        "outputId": "d67d7c06-cbab-4376-8732-635ad480bffb"
      },
      "source": [
        "show_bars(eduL, eduG, 'Incomes per education-num', bins=10)"
      ],
      "execution_count": 29,
      "outputs": [
        {
          "output_type": "stream",
          "text": [
            "/usr/local/lib/python3.6/dist-packages/ipykernel_launcher.py:5: MatplotlibDeprecationWarning: Adding an axes using the same arguments as a previous axes currently reuses the earlier instance.  In a future version, a new instance will always be created and returned.  Meanwhile, this warning can be suppressed, and the future behavior ensured, by passing a unique label to each axes instance.\n",
            "  \"\"\"\n"
          ],
          "name": "stderr"
        },
        {
          "output_type": "display_data",
          "data": {
            "image/png": "[encoded data removed]",
            "text/plain": [
              "<Figure size 1440x1440 with 1 Axes>"
            ]
          },
          "metadata": {
            "tags": []
          }
        }
      ]
    },
    {
      "cell_type": "markdown",
      "metadata": {
        "id": "4aSYK0vErZeQ",
        "colab_type": "text"
      },
      "source": [
        "# Work class"
      ]
    },
    {
      "cell_type": "code",
      "metadata": {
        "id": "MTDTve9LrZeS",
        "colab_type": "code",
        "colab": {
          "base_uri": "https://localhost:8080/",
          "height": 72
        },
        "outputId": "e8adca7e-8671-4339-adab-7fd2776a62c4"
      },
      "source": [
        "train_drop['workclass'].unique()"
      ],
      "execution_count": 30,
      "outputs": [
        {
          "output_type": "execute_result",
          "data": {
            "text/plain": [
              "array([' Self-emp-not-inc', ' Private', ' State-gov', ' Federal-gov',\n",
              "       ' Local-gov', ' Self-emp-inc', ' Without-pay', ' Never-worked'],\n",
              "      dtype=object)"
            ]
          },
          "metadata": {
            "tags": []
          },
          "execution_count": 30
        }
      ]
    },
    {
      "cell_type": "code",
      "metadata": {
        "id": "gnAWd0gKrZeY",
        "colab_type": "code",
        "colab": {}
      },
      "source": [
        "workG = gt['workclass']\n",
        "workL = lt['workclass']"
      ],
      "execution_count": 0,
      "outputs": []
    },
    {
      "cell_type": "code",
      "metadata": {
        "id": "crU8wHFFrZed",
        "colab_type": "code",
        "colab": {
          "base_uri": "https://localhost:8080/",
          "height": 1000
        },
        "outputId": "b869da4d-16f0-4be3-fe48-299bc4fb0257"
      },
      "source": [
        "show_bars(workL, workG, 'Income per work class', bins=8)"
      ],
      "execution_count": 32,
      "outputs": [
        {
          "output_type": "stream",
          "text": [
            "/usr/local/lib/python3.6/dist-packages/ipykernel_launcher.py:5: MatplotlibDeprecationWarning: Adding an axes using the same arguments as a previous axes currently reuses the earlier instance.  In a future version, a new instance will always be created and returned.  Meanwhile, this warning can be suppressed, and the future behavior ensured, by passing a unique label to each axes instance.\n",
            "  \"\"\"\n"
          ],
          "name": "stderr"
        },
        {
          "output_type": "display_data",
          "data": {
            "image/png": "[encoded data removed]",
            "text/plain": [
              "<Figure size 1440x1440 with 1 Axes>"
            ]
          },
          "metadata": {
            "tags": []
          }
        }
      ]
    },
    {
      "cell_type": "code",
      "metadata": {
        "id": "auZAHaLKrZek",
        "colab_type": "code",
        "colab": {}
      },
      "source": [
        "wc = train_drop['workclass']==' Never-worked'"
      ],
      "execution_count": 0,
      "outputs": []
    },
    {
      "cell_type": "code",
      "metadata": {
        "id": "pbc1qgAprZep",
        "colab_type": "code",
        "colab": {
          "base_uri": "https://localhost:8080/",
          "height": 109
        },
        "outputId": "f4af6e16-115e-46c0-d827-202e753d0494"
      },
      "source": [
        "train_drop['occupation'].unique()"
      ],
      "execution_count": 34,
      "outputs": [
        {
          "output_type": "execute_result",
          "data": {
            "text/plain": [
              "array([' Exec-managerial', ' Handlers-cleaners', ' Prof-specialty',\n",
              "       ' Other-service', ' Adm-clerical', ' Sales', ' Craft-repair',\n",
              "       ' Transport-moving', ' Farming-fishing', ' Machine-op-inspct',\n",
              "       ' Tech-support', ' Protective-serv', ' Armed-Forces',\n",
              "       ' Priv-house-serv', ' ?'], dtype=object)"
            ]
          },
          "metadata": {
            "tags": []
          },
          "execution_count": 34
        }
      ]
    },
    {
      "cell_type": "code",
      "metadata": {
        "id": "leql_KqArZeu",
        "colab_type": "code",
        "colab": {}
      },
      "source": [
        "occG = gt['occupation']\n",
        "occL = lt['occupation']"
      ],
      "execution_count": 0,
      "outputs": []
    },
    {
      "cell_type": "code",
      "metadata": {
        "id": "11rjZl9vrZey",
        "colab_type": "code",
        "colab": {
          "base_uri": "https://localhost:8080/",
          "height": 1000
        },
        "outputId": "96f47336-f432-4b1c-81c1-6c69bba5989c"
      },
      "source": [
        "show_bars(occL, occG, 'Income per work class', bins=15)"
      ],
      "execution_count": 36,
      "outputs": [
        {
          "output_type": "stream",
          "text": [
            "/usr/local/lib/python3.6/dist-packages/ipykernel_launcher.py:5: MatplotlibDeprecationWarning: Adding an axes using the same arguments as a previous axes currently reuses the earlier instance.  In a future version, a new instance will always be created and returned.  Meanwhile, this warning can be suppressed, and the future behavior ensured, by passing a unique label to each axes instance.\n",
            "  \"\"\"\n"
          ],
          "name": "stderr"
        },
        {
          "output_type": "display_data",
          "data": {
            "image/png": "[encoded data removed]",
            "text/plain": [
              "<Figure size 1440x1440 with 1 Axes>"
            ]
          },
          "metadata": {
            "tags": []
          }
        }
      ]
    },
    {
      "cell_type": "markdown",
      "metadata": {
        "id": "91UvDJVbrZe5",
        "colab_type": "text"
      },
      "source": [
        "# Marital status"
      ]
    },
    {
      "cell_type": "code",
      "metadata": {
        "id": "hRilOZYBrZe7",
        "colab_type": "code",
        "colab": {
          "base_uri": "https://localhost:8080/",
          "height": 1000
        },
        "outputId": "88b6bf4c-1234-455f-d0d6-eaef845aa5f2"
      },
      "source": [
        "msG = gt['marital-status']\n",
        "msL = lt['marital-status']\n",
        "show_bars(msL, msG, 'Income per marital-status', bins=15)"
      ],
      "execution_count": 37,
      "outputs": [
        {
          "output_type": "stream",
          "text": [
            "/usr/local/lib/python3.6/dist-packages/ipykernel_launcher.py:5: MatplotlibDeprecationWarning: Adding an axes using the same arguments as a previous axes currently reuses the earlier instance.  In a future version, a new instance will always be created and returned.  Meanwhile, this warning can be suppressed, and the future behavior ensured, by passing a unique label to each axes instance.\n",
            "  \"\"\"\n"
          ],
          "name": "stderr"
        },
        {
          "output_type": "display_data",
          "data": {
            "image/png": "[encoded data removed]",
            "text/plain": [
              "<Figure size 1440x1440 with 1 Axes>"
            ]
          },
          "metadata": {
            "tags": []
          }
        }
      ]
    },
    {
      "cell_type": "markdown",
      "metadata": {
        "id": "2niQzq-ZrZe_",
        "colab_type": "text"
      },
      "source": [
        "# Relationship"
      ]
    },
    {
      "cell_type": "code",
      "metadata": {
        "id": "l4TekloPrZfA",
        "colab_type": "code",
        "colab": {
          "base_uri": "https://localhost:8080/",
          "height": 1000
        },
        "outputId": "0ac42749-8b3b-4747-8fc8-9ceb8b1f4076"
      },
      "source": [
        "att = 'relationship'\n",
        "rG = gt[att]\n",
        "rL = lt[att]\n",
        "show_bars(rL, rG, 'Income per relationship', bins=6)"
      ],
      "execution_count": 38,
      "outputs": [
        {
          "output_type": "stream",
          "text": [
            "/usr/local/lib/python3.6/dist-packages/ipykernel_launcher.py:5: MatplotlibDeprecationWarning: Adding an axes using the same arguments as a previous axes currently reuses the earlier instance.  In a future version, a new instance will always be created and returned.  Meanwhile, this warning can be suppressed, and the future behavior ensured, by passing a unique label to each axes instance.\n",
            "  \"\"\"\n"
          ],
          "name": "stderr"
        },
        {
          "output_type": "display_data",
          "data": {
            "image/png": "[encoded data removed]",
            "text/plain": [
              "<Figure size 1440x1440 with 1 Axes>"
            ]
          },
          "metadata": {
            "tags": []
          }
        }
      ]
    },
    {
      "cell_type": "markdown",
      "metadata": {
        "id": "N79UV_pTrZfG",
        "colab_type": "text"
      },
      "source": [
        "# Race"
      ]
    },
    {
      "cell_type": "code",
      "metadata": {
        "id": "DSB8VyIVrZfI",
        "colab_type": "code",
        "colab": {
          "base_uri": "https://localhost:8080/",
          "height": 1000
        },
        "outputId": "896c6f86-1d34-48a5-f223-f1980ad9ce9b"
      },
      "source": [
        "att = 'race'\n",
        "raceG = gt[att]\n",
        "raceL = lt[att]\n",
        "show_bars(raceL, raceG, 'Income per work class', bins=5)"
      ],
      "execution_count": 39,
      "outputs": [
        {
          "output_type": "stream",
          "text": [
            "/usr/local/lib/python3.6/dist-packages/ipykernel_launcher.py:5: MatplotlibDeprecationWarning: Adding an axes using the same arguments as a previous axes currently reuses the earlier instance.  In a future version, a new instance will always be created and returned.  Meanwhile, this warning can be suppressed, and the future behavior ensured, by passing a unique label to each axes instance.\n",
            "  \"\"\"\n"
          ],
          "name": "stderr"
        },
        {
          "output_type": "display_data",
          "data": {
            "image/png": "[encoded data removed]",
            "text/plain": [
              "<Figure size 1440x1440 with 1 Axes>"
            ]
          },
          "metadata": {
            "tags": []
          }
        }
      ]
    },
    {
      "cell_type": "markdown",
      "metadata": {
        "id": "Kojf0CrXrZfO",
        "colab_type": "text"
      },
      "source": [
        "# Sex"
      ]
    },
    {
      "cell_type": "code",
      "metadata": {
        "id": "ABmNiKT_rZfP",
        "colab_type": "code",
        "colab": {
          "base_uri": "https://localhost:8080/",
          "height": 1000
        },
        "outputId": "50dd801c-8771-4a6d-b9fc-b34f655ae9ac"
      },
      "source": [
        "att = 'sex'\n",
        "sexG = gt[att]\n",
        "sexL = lt[att]\n",
        "show_bars(rL, rG, 'Income per sex', bins=6)"
      ],
      "execution_count": 40,
      "outputs": [
        {
          "output_type": "stream",
          "text": [
            "/usr/local/lib/python3.6/dist-packages/ipykernel_launcher.py:5: MatplotlibDeprecationWarning: Adding an axes using the same arguments as a previous axes currently reuses the earlier instance.  In a future version, a new instance will always be created and returned.  Meanwhile, this warning can be suppressed, and the future behavior ensured, by passing a unique label to each axes instance.\n",
            "  \"\"\"\n"
          ],
          "name": "stderr"
        },
        {
          "output_type": "display_data",
          "data": {
            "image/png": "[encoded data removed]",
            "text/plain": [
              "<Figure size 1440x1440 with 1 Axes>"
            ]
          },
          "metadata": {
            "tags": []
          }
        }
      ]
    },
    {
      "cell_type": "markdown",
      "metadata": {
        "id": "vjicZsXfrZfX",
        "colab_type": "text"
      },
      "source": [
        "# Capital gain"
      ]
    },
    {
      "cell_type": "code",
      "metadata": {
        "id": "OQq13hFJrZfZ",
        "colab_type": "code",
        "colab": {
          "base_uri": "https://localhost:8080/",
          "height": 1000
        },
        "outputId": "54114e59-a9b2-48ea-8905-ff955a0a4941"
      },
      "source": [
        "att = 'capital-gain'\n",
        "cgG = gt[att]\n",
        "cgL = lt[att]\n",
        "show_bars(cgL, cgG, 'Income per capital-gain', bins=15)"
      ],
      "execution_count": 41,
      "outputs": [
        {
          "output_type": "stream",
          "text": [
            "/usr/local/lib/python3.6/dist-packages/ipykernel_launcher.py:5: MatplotlibDeprecationWarning: Adding an axes using the same arguments as a previous axes currently reuses the earlier instance.  In a future version, a new instance will always be created and returned.  Meanwhile, this warning can be suppressed, and the future behavior ensured, by passing a unique label to each axes instance.\n",
            "  \"\"\"\n"
          ],
          "name": "stderr"
        },
        {
          "output_type": "display_data",
          "data": {
            "image/png": "[encoded data removed]",
            "text/plain": [
              "<Figure size 1440x1440 with 1 Axes>"
            ]
          },
          "metadata": {
            "tags": []
          }
        }
      ]
    },
    {
      "cell_type": "markdown",
      "metadata": {
        "id": "vkBtPV0frZfe",
        "colab_type": "text"
      },
      "source": [
        "# Capital loss"
      ]
    },
    {
      "cell_type": "code",
      "metadata": {
        "id": "xCo8pT9lrZfi",
        "colab_type": "code",
        "colab": {
          "base_uri": "https://localhost:8080/",
          "height": 1000
        },
        "outputId": "91e634d0-4fe4-41c6-cd45-be436e455a09"
      },
      "source": [
        "att = 'capital-loss'\n",
        "clG = gt[att]\n",
        "clL = lt[att]\n",
        "show_bars(clL, clG, 'Income per capital-loss', bins=15)"
      ],
      "execution_count": 42,
      "outputs": [
        {
          "output_type": "stream",
          "text": [
            "/usr/local/lib/python3.6/dist-packages/ipykernel_launcher.py:5: MatplotlibDeprecationWarning: Adding an axes using the same arguments as a previous axes currently reuses the earlier instance.  In a future version, a new instance will always be created and returned.  Meanwhile, this warning can be suppressed, and the future behavior ensured, by passing a unique label to each axes instance.\n",
            "  \"\"\"\n"
          ],
          "name": "stderr"
        },
        {
          "output_type": "display_data",
          "data": {
            "image/png": "[encoded data removed]",
            "text/plain": [
              "<Figure size 1440x1440 with 1 Axes>"
            ]
          },
          "metadata": {
            "tags": []
          }
        }
      ]
    },
    {
      "cell_type": "code",
      "metadata": {
        "id": "7mtcyGWDrZfs",
        "colab_type": "code",
        "colab": {
          "base_uri": "https://localhost:8080/",
          "height": 1000
        },
        "outputId": "a0bdb26d-e586-4613-d822-ac903ccfbfe5"
      },
      "source": [
        "show_boxes(clL, clG, 'Income per capital-loss',)"
      ],
      "execution_count": 43,
      "outputs": [
        {
          "output_type": "display_data",
          "data": {
            "image/png": "[encoded data removed]",
            "text/plain": [
              "<Figure size 1440x1440 with 1 Axes>"
            ]
          },
          "metadata": {
            "tags": []
          }
        }
      ]
    },
    {
      "cell_type": "code",
      "metadata": {
        "id": "O5CH7-2urZfy",
        "colab_type": "code",
        "colab": {
          "base_uri": "https://localhost:8080/",
          "height": 366
        },
        "outputId": "a69f49f0-060a-4f12-8a13-53de64b18a57"
      },
      "source": [
        "print(train['capital-gain'].describe())\n",
        "print()\n",
        "print(train['capital-loss'].describe())"
      ],
      "execution_count": 44,
      "outputs": [
        {
          "output_type": "stream",
          "text": [
            "count    32560.000000\n",
            "mean      1077.615172\n",
            "std       7385.402999\n",
            "min          0.000000\n",
            "25%          0.000000\n",
            "50%          0.000000\n",
            "75%          0.000000\n",
            "max      99999.000000\n",
            "Name: capital-gain, dtype: float64\n",
            "\n",
            "count    32560.000000\n",
            "mean        87.306511\n",
            "std        402.966116\n",
            "min          0.000000\n",
            "25%          0.000000\n",
            "50%          0.000000\n",
            "75%          0.000000\n",
            "max       4356.000000\n",
            "Name: capital-loss, dtype: float64\n"
          ],
          "name": "stdout"
        }
      ]
    },
    {
      "cell_type": "code",
      "metadata": {
        "id": "hU3euXlHrZf2",
        "colab_type": "code",
        "colab": {
          "base_uri": "https://localhost:8080/",
          "height": 733
        },
        "outputId": "13dcc1cc-5f63-4db4-e131-3f9392534bb5"
      },
      "source": [
        "print(cgL.describe())\n",
        "print()\n",
        "print(cgG.describe())\n",
        "print()\n",
        "print(clL.describe())\n",
        "print()\n",
        "print(clG.describe())"
      ],
      "execution_count": 45,
      "outputs": [
        {
          "output_type": "stream",
          "text": [
            "count    23074.00000\n",
            "mean       147.92290\n",
            "std        930.71146\n",
            "min          0.00000\n",
            "25%          0.00000\n",
            "50%          0.00000\n",
            "75%          0.00000\n",
            "max      41310.00000\n",
            "Name: capital-gain, dtype: float64\n",
            "\n",
            "count     7650.000000\n",
            "mean      3994.758170\n",
            "std      14561.393295\n",
            "min          0.000000\n",
            "25%          0.000000\n",
            "50%          0.000000\n",
            "75%          0.000000\n",
            "max      99999.000000\n",
            "Name: capital-gain, dtype: float64\n",
            "\n",
            "count    23074.000000\n",
            "mean        53.514605\n",
            "std        310.313126\n",
            "min          0.000000\n",
            "25%          0.000000\n",
            "50%          0.000000\n",
            "75%          0.000000\n",
            "max       4356.000000\n",
            "Name: capital-loss, dtype: float64\n",
            "\n",
            "count    7650.000000\n",
            "mean      195.601046\n",
            "std       595.993042\n",
            "min         0.000000\n",
            "25%         0.000000\n",
            "50%         0.000000\n",
            "75%         0.000000\n",
            "max      3683.000000\n",
            "Name: capital-loss, dtype: float64\n"
          ],
          "name": "stdout"
        }
      ]
    },
    {
      "cell_type": "markdown",
      "metadata": {
        "id": "HBG_l_APrZf8",
        "colab_type": "text"
      },
      "source": [
        "# Hours per week"
      ]
    },
    {
      "cell_type": "code",
      "metadata": {
        "id": "284ik9WWrZf9",
        "colab_type": "code",
        "colab": {
          "base_uri": "https://localhost:8080/",
          "height": 1000
        },
        "outputId": "a3f2da62-9fe9-4b0a-d6d8-4c4b2c5acf52"
      },
      "source": [
        "att = 'hours-per-week'\n",
        "hwG = gt[att]\n",
        "hwL = lt[att]\n",
        "show_bars(hwL, hwG, 'Income per hours-per-week', bins=15)"
      ],
      "execution_count": 46,
      "outputs": [
        {
          "output_type": "stream",
          "text": [
            "/usr/local/lib/python3.6/dist-packages/ipykernel_launcher.py:5: MatplotlibDeprecationWarning: Adding an axes using the same arguments as a previous axes currently reuses the earlier instance.  In a future version, a new instance will always be created and returned.  Meanwhile, this warning can be suppressed, and the future behavior ensured, by passing a unique label to each axes instance.\n",
            "  \"\"\"\n"
          ],
          "name": "stderr"
        },
        {
          "output_type": "display_data",
          "data": {
            "image/png": "[encoded data removed]",
            "text/plain": [
              "<Figure size 1440x1440 with 1 Axes>"
            ]
          },
          "metadata": {
            "tags": []
          }
        }
      ]
    },
    {
      "cell_type": "code",
      "metadata": {
        "id": "13M3c6sorZgR",
        "colab_type": "code",
        "colab": {
          "base_uri": "https://localhost:8080/",
          "height": 1000
        },
        "outputId": "42122397-49ea-4765-e726-3354102839b5"
      },
      "source": [
        "show_boxes(hwL, hwG, 'Income per hours-per-week',)"
      ],
      "execution_count": 47,
      "outputs": [
        {
          "output_type": "display_data",
          "data": {
            "image/png": "[encoded data removed]",
            "text/plain": [
              "<Figure size 1440x1440 with 1 Axes>"
            ]
          },
          "metadata": {
            "tags": []
          }
        }
      ]
    },
    {
      "cell_type": "code",
      "metadata": {
        "id": "_Z2s8tGTrZgV",
        "colab_type": "code",
        "colab": {
          "base_uri": "https://localhost:8080/",
          "height": 1000
        },
        "outputId": "7efb5a7c-d8b1-4826-c97c-4971916629e4"
      },
      "source": [
        "att = 'native-country'\n",
        "ncG = gt[att]\n",
        "ncL = lt[att]\n",
        "show_bars(ncL, ncG, 'Income per native-country', bins=30)"
      ],
      "execution_count": 48,
      "outputs": [
        {
          "output_type": "stream",
          "text": [
            "/usr/local/lib/python3.6/dist-packages/ipykernel_launcher.py:5: MatplotlibDeprecationWarning: Adding an axes using the same arguments as a previous axes currently reuses the earlier instance.  In a future version, a new instance will always be created and returned.  Meanwhile, this warning can be suppressed, and the future behavior ensured, by passing a unique label to each axes instance.\n",
            "  \"\"\"\n"
          ],
          "name": "stderr"
        },
        {
          "output_type": "display_data",
          "data": {
            "image/png": "[encoded data removed]",
            "text/plain": [
              "<Figure size 1440x1440 with 1 Axes>"
            ]
          },
          "metadata": {
            "tags": []
          }
        }
      ]
    },
    {
      "cell_type": "markdown",
      "metadata": {
        "id": "oEWhazr-rZgd",
        "colab_type": "text"
      },
      "source": [
        "# Trying various models"
      ]
    },
    {
      "cell_type": "code",
      "metadata": {
        "id": "UgAkOnXgrZgf",
        "colab_type": "code",
        "colab": {}
      },
      "source": [
        "from sklearn.preprocessing import OneHotEncoder\n",
        "from sklearn.pipeline import Pipeline\n",
        "from sklearn.preprocessing import StandardScaler\n",
        "from sklearn.compose import ColumnTransformer"
      ],
      "execution_count": 0,
      "outputs": []
    },
    {
      "cell_type": "code",
      "metadata": {
        "id": "Z1twZH-wrZgk",
        "colab_type": "code",
        "colab": {}
      },
      "source": [
        "scores_means = dict()"
      ],
      "execution_count": 0,
      "outputs": []
    },
    {
      "cell_type": "code",
      "metadata": {
        "id": "u3BamqJGrZgo",
        "colab_type": "code",
        "colab": {}
      },
      "source": [
        "X = train_drop.drop(['income'], axis=1)\n",
        "y = train_drop['income']"
      ],
      "execution_count": 0,
      "outputs": []
    },
    {
      "cell_type": "markdown",
      "metadata": {
        "id": "UxKdino-rZgt",
        "colab_type": "text"
      },
      "source": [
        "# Encoding categorical attributes"
      ]
    },
    {
      "cell_type": "code",
      "metadata": {
        "id": "UEtqVN02rZgu",
        "colab_type": "code",
        "colab": {}
      },
      "source": [
        "cat_att = 'workclass education marital-status occupation relationship race sex native-country'.split(' ')\n",
        "col_pipe = ColumnTransformer([\n",
        "    (\"cat\", OneHotEncoder(), cat_att)\n",
        "])"
      ],
      "execution_count": 0,
      "outputs": []
    },
    {
      "cell_type": "code",
      "metadata": {
        "id": "9Fhny60FrZg0",
        "colab_type": "code",
        "colab": {}
      },
      "source": [
        "X_prep = col_pipe.fit_transform(X)"
      ],
      "execution_count": 0,
      "outputs": []
    },
    {
      "cell_type": "markdown",
      "metadata": {
        "id": "iIPfNbdfrZg3",
        "colab_type": "text"
      },
      "source": [
        "# Trying Gradient Boosting Classifier with no scaling\n",
        "I use cross validation on training set, ignoring test set"
      ]
    },
    {
      "cell_type": "code",
      "metadata": {
        "id": "GoMPJpkCrZg5",
        "colab_type": "code",
        "colab": {}
      },
      "source": [
        "from sklearn.ensemble import GradientBoostingClassifier, RandomForestClassifier"
      ],
      "execution_count": 0,
      "outputs": []
    },
    {
      "cell_type": "code",
      "metadata": {
        "id": "HrRkKWCKrZhC",
        "colab_type": "code",
        "colab": {}
      },
      "source": [
        "gbc = GradientBoostingClassifier()"
      ],
      "execution_count": 0,
      "outputs": []
    },
    {
      "cell_type": "code",
      "metadata": {
        "id": "ymuLUPoprZhF",
        "colab_type": "code",
        "colab": {}
      },
      "source": [
        "from sklearn.model_selection import cross_val_score"
      ],
      "execution_count": 0,
      "outputs": []
    },
    {
      "cell_type": "code",
      "metadata": {
        "id": "OlK3w6MnrZhJ",
        "colab_type": "code",
        "colab": {}
      },
      "source": [
        "scores = cross_val_score(gbc, X_prep, y, scoring='roc_auc', cv=10)"
      ],
      "execution_count": 0,
      "outputs": []
    },
    {
      "cell_type": "code",
      "metadata": {
        "id": "A1oGfFSprZhN",
        "colab_type": "code",
        "colab": {
          "base_uri": "https://localhost:8080/",
          "height": 35
        },
        "outputId": "c10f0f31-6f35-4fd7-a9e5-f4eb5c0619fc"
      },
      "source": [
        "scores_means['Gradient Boosting Classifier no Scaling'] = scores.mean()\n",
        "scores.mean()"
      ],
      "execution_count": 58,
      "outputs": [
        {
          "output_type": "execute_result",
          "data": {
            "text/plain": [
              "0.8748671007172799"
            ]
          },
          "metadata": {
            "tags": []
          },
          "execution_count": 58
        }
      ]
    },
    {
      "cell_type": "code",
      "metadata": {
        "id": "0n9_VZA5rZhQ",
        "colab_type": "code",
        "colab": {
          "base_uri": "https://localhost:8080/",
          "height": 55
        },
        "outputId": "4bb9dde7-4120-4870-f4fc-22657e0bfcd2"
      },
      "source": [
        "import sklearn\n",
        "sklearn.metrics.SCORERS.keys()"
      ],
      "execution_count": 59,
      "outputs": [
        {
          "output_type": "execute_result",
          "data": {
            "text/plain": [
              "dict_keys(['explained_variance', 'r2', 'max_error', 'neg_median_absolute_error', 'neg_mean_absolute_error', 'neg_mean_squared_error', 'neg_mean_squared_log_error', 'neg_root_mean_squared_error', 'neg_mean_poisson_deviance', 'neg_mean_gamma_deviance', 'accuracy', 'roc_auc', 'roc_auc_ovr', 'roc_auc_ovo', 'roc_auc_ovr_weighted', 'roc_auc_ovo_weighted', 'balanced_accuracy', 'average_precision', 'neg_log_loss', 'neg_brier_score', 'adjusted_rand_score', 'homogeneity_score', 'completeness_score', 'v_measure_score', 'mutual_info_score', 'adjusted_mutual_info_score', 'normalized_mutual_info_score', 'fowlkes_mallows_score', 'precision', 'precision_macro', 'precision_micro', 'precision_samples', 'precision_weighted', 'recall', 'recall_macro', 'recall_micro', 'recall_samples', 'recall_weighted', 'f1', 'f1_macro', 'f1_micro', 'f1_samples', 'f1_weighted', 'jaccard', 'jaccard_macro', 'jaccard_micro', 'jaccard_samples', 'jaccard_weighted'])"
            ]
          },
          "metadata": {
            "tags": []
          },
          "execution_count": 59
        }
      ]
    },
    {
      "cell_type": "markdown",
      "metadata": {
        "id": "musE9ScxrZhU",
        "colab_type": "text"
      },
      "source": [
        "# Scaling features with StandardScaler"
      ]
    },
    {
      "cell_type": "code",
      "metadata": {
        "id": "PdELvd-vrZhV",
        "colab_type": "code",
        "colab": {}
      },
      "source": [
        "num_att = 'education-num capital-gain capital-loss hours-per-week'.split()\n",
        "pipe = Pipeline([\n",
        "    ('std_scaler', StandardScaler())\n",
        "])\n",
        "\n",
        "full_pipe = ColumnTransformer([\n",
        "    ('pipe_scl', pipe, num_att),\n",
        "    ('cat', OneHotEncoder(), cat_att)\n",
        "])\n",
        "\n",
        "X_prep_scaled = full_pipe.fit_transform(X)\n",
        "\n",
        "scores = cross_val_score(gbc, X_prep_scaled, y, scoring='roc_auc', cv=10)"
      ],
      "execution_count": 0,
      "outputs": []
    },
    {
      "cell_type": "code",
      "metadata": {
        "id": "TVBU2rFlrZhY",
        "colab_type": "code",
        "colab": {
          "base_uri": "https://localhost:8080/",
          "height": 35
        },
        "outputId": "1f65bc62-cec3-456e-b2f8-40be7ac3fa94"
      },
      "source": [
        "scores_means['Gradient Boosting Classifier tutte le feature'] = scores.mean()\n",
        "scores.mean()"
      ],
      "execution_count": 61,
      "outputs": [
        {
          "output_type": "execute_result",
          "data": {
            "text/plain": [
              "0.9134147139566707"
            ]
          },
          "metadata": {
            "tags": []
          },
          "execution_count": 61
        }
      ]
    },
    {
      "cell_type": "markdown",
      "metadata": {
        "id": "9gLLwWizrZhd",
        "colab_type": "text"
      },
      "source": [
        "# Trying to delete useless features."
      ]
    },
    {
      "cell_type": "code",
      "metadata": {
        "id": "2AkkleDYrZhe",
        "colab_type": "code",
        "colab": {}
      },
      "source": [
        "train_drop_2 = train_drop.drop(['race','marital-status','native-country'], axis=1)\n",
        "#train_drop_2 = train_drop.drop(['race','relationship','native-country'], axis=1)"
      ],
      "execution_count": 0,
      "outputs": []
    },
    {
      "cell_type": "code",
      "metadata": {
        "id": "UGiWJeH8rZhh",
        "colab_type": "code",
        "colab": {}
      },
      "source": [
        "X_drop = train_drop.drop(['income'], axis=1)\n",
        "y = train_drop['income']"
      ],
      "execution_count": 0,
      "outputs": []
    },
    {
      "cell_type": "code",
      "metadata": {
        "id": "3sBwGZ9CrZhl",
        "colab_type": "code",
        "colab": {}
      },
      "source": [
        "num_att = 'education-num capital-gain capital-loss hours-per-week'.split()\n",
        "pipe = Pipeline([\n",
        "    ('std_scaler', StandardScaler())\n",
        "])\n",
        "\n",
        "full_pipe = ColumnTransformer([\n",
        "    ('pipe_scl', pipe, num_att),\n",
        "    ('cat', OneHotEncoder(), cat_att)\n",
        "])\n",
        "\n",
        "X_prep_scaled = full_pipe.fit_transform(X_drop)\n",
        "\n",
        "scores = cross_val_score(gbc, X_prep_scaled, y, scoring='roc_auc', cv=10)"
      ],
      "execution_count": 0,
      "outputs": []
    },
    {
      "cell_type": "code",
      "metadata": {
        "id": "1wIEdwhIrZho",
        "colab_type": "code",
        "colab": {
          "base_uri": "https://localhost:8080/",
          "height": 35
        },
        "outputId": "f5564fe4-63f8-473d-8020-7ae4407cbb76"
      },
      "source": [
        "scores_means['Gradient Boosting Classifier'] = scores.mean()\n",
        "scores.mean()"
      ],
      "execution_count": 65,
      "outputs": [
        {
          "output_type": "execute_result",
          "data": {
            "text/plain": [
              "0.9134114842541328"
            ]
          },
          "metadata": {
            "tags": []
          },
          "execution_count": 65
        }
      ]
    },
    {
      "cell_type": "markdown",
      "metadata": {
        "id": "PTaNcuvHrZht",
        "colab_type": "text"
      },
      "source": [
        "# RandomForest"
      ]
    },
    {
      "cell_type": "code",
      "metadata": {
        "id": "mkkBXxArrZhu",
        "colab_type": "code",
        "colab": {}
      },
      "source": [
        "rfc = RandomForestClassifier()\n",
        "\n",
        "num_att = 'education-num capital-gain capital-loss hours-per-week'.split()\n",
        "pipe = Pipeline([\n",
        "    ('std_scaler', StandardScaler())\n",
        "])\n",
        "\n",
        "full_pipe = ColumnTransformer([\n",
        "    ('pipe_scl', pipe, num_att),\n",
        "    ('cat', OneHotEncoder(), cat_att)\n",
        "])\n",
        "\n",
        "X_prep_scaled = full_pipe.fit_transform(X_drop)\n",
        "\n",
        "scores = cross_val_score(rfc, X_prep_scaled, y, scoring='roc_auc', cv=10)"
      ],
      "execution_count": 0,
      "outputs": []
    },
    {
      "cell_type": "code",
      "metadata": {
        "id": "LUH5d1tgrZhy",
        "colab_type": "code",
        "colab": {
          "base_uri": "https://localhost:8080/",
          "height": 35
        },
        "outputId": "76d29f3a-8aa6-4e8a-dffc-45fc2b05aaab"
      },
      "source": [
        "scores_means['Random Forest Classifier'] = scores.mean()\n",
        "scores.mean()"
      ],
      "execution_count": 67,
      "outputs": [
        {
          "output_type": "execute_result",
          "data": {
            "text/plain": [
              "0.8889476659398479"
            ]
          },
          "metadata": {
            "tags": []
          },
          "execution_count": 67
        }
      ]
    },
    {
      "cell_type": "markdown",
      "metadata": {
        "id": "85AYyIgqrZh3",
        "colab_type": "text"
      },
      "source": [
        "# Support Vector Machine"
      ]
    },
    {
      "cell_type": "code",
      "metadata": {
        "id": "LiCxIGJhrZh4",
        "colab_type": "code",
        "colab": {}
      },
      "source": [
        "from sklearn.svm import SVC\n",
        "\n",
        "svc = SVC(kernel='poly', degree=4)\n",
        "\n",
        "num_att = 'education-num capital-gain capital-loss hours-per-week'.split()\n",
        "pipe = Pipeline([\n",
        "    ('std_scaler', StandardScaler())\n",
        "])\n",
        "\n",
        "full_pipe = ColumnTransformer([\n",
        "    ('pipe_scl', pipe, num_att),\n",
        "    ('cat', OneHotEncoder(), cat_att)\n",
        "])\n",
        "\n",
        "X_prep_scaled = full_pipe.fit_transform(X_drop)\n",
        "\n",
        "scores = cross_val_score(svc, X_prep_scaled, y, scoring='roc_auc', cv=10)"
      ],
      "execution_count": 0,
      "outputs": []
    },
    {
      "cell_type": "code",
      "metadata": {
        "id": "VwDNo_2PrZh7",
        "colab_type": "code",
        "colab": {
          "base_uri": "https://localhost:8080/",
          "height": 35
        },
        "outputId": "5318609e-0500-4be5-e82e-85c25a1d78aa"
      },
      "source": [
        "scores_means['SVM poly degree=4'] = scores.mean()\n",
        "scores.mean()"
      ],
      "execution_count": 69,
      "outputs": [
        {
          "output_type": "execute_result",
          "data": {
            "text/plain": [
              "0.8742096618745595"
            ]
          },
          "metadata": {
            "tags": []
          },
          "execution_count": 69
        }
      ]
    },
    {
      "cell_type": "markdown",
      "metadata": {
        "id": "aRWpsWsfrZh_",
        "colab_type": "text"
      },
      "source": [
        "# KNN"
      ]
    },
    {
      "cell_type": "code",
      "metadata": {
        "id": "Zm0sC_T4rZh_",
        "colab_type": "code",
        "colab": {
          "base_uri": "https://localhost:8080/",
          "height": 35
        },
        "outputId": "5d0f050b-7f94-462a-d2d9-d2340fcb5246"
      },
      "source": [
        "from sklearn.neighbors import KNeighborsClassifier\n",
        "\n",
        "knn = KNeighborsClassifier(n_neighbors=25)\n",
        "\n",
        "num_att = 'education-num capital-gain capital-loss hours-per-week'.split()\n",
        "pipe = Pipeline([\n",
        "    ('std_scaler', StandardScaler())\n",
        "])\n",
        "\n",
        "full_pipe = ColumnTransformer([\n",
        "    ('pipe_scl', pipe, num_att),\n",
        "    ('cat', OneHotEncoder(), cat_att)\n",
        "])\n",
        "\n",
        "X_prep_scaled = full_pipe.fit_transform(X_drop)\n",
        "\n",
        "scores = cross_val_score(knn, X_prep_scaled, y, scoring='roc_auc', cv=10)\n",
        "\n",
        "scores_means['KNN 25'] = scores.mean()\n",
        "scores.mean()"
      ],
      "execution_count": 70,
      "outputs": [
        {
          "output_type": "execute_result",
          "data": {
            "text/plain": [
              "0.8884666454646165"
            ]
          },
          "metadata": {
            "tags": []
          },
          "execution_count": 70
        }
      ]
    },
    {
      "cell_type": "markdown",
      "metadata": {
        "id": "TRbKb-AMtDUS",
        "colab_type": "text"
      },
      "source": [
        "# Metric: AOC"
      ]
    },
    {
      "cell_type": "code",
      "metadata": {
        "id": "29eaR6UJrZiE",
        "colab_type": "code",
        "colab": {
          "base_uri": "https://localhost:8080/",
          "height": 127
        },
        "outputId": "48abb603-7d09-4b87-ecf7-61a4946a1b3c"
      },
      "source": [
        "scores_means"
      ],
      "execution_count": 71,
      "outputs": [
        {
          "output_type": "execute_result",
          "data": {
            "text/plain": [
              "{'Gradient Boosting Classifier': 0.9134114842541328,\n",
              " 'Gradient Boosting Classifier no Scaling': 0.8748671007172799,\n",
              " 'Gradient Boosting Classifier tutte le feature': 0.9134147139566707,\n",
              " 'KNN 25': 0.8884666454646165,\n",
              " 'Random Forest Classifier': 0.8889476659398479,\n",
              " 'SVM poly degree=4': 0.8742096618745595}"
            ]
          },
          "metadata": {
            "tags": []
          },
          "execution_count": 71
        }
      ]
    },
    {
      "cell_type": "markdown",
      "metadata": {
        "id": "ZDT_y7avrmBg",
        "colab_type": "text"
      },
      "source": [
        "# Trying Neural Network"
      ]
    },
    {
      "cell_type": "code",
      "metadata": {
        "id": "l4Plc1ImrlSc",
        "colab_type": "code",
        "colab": {}
      },
      "source": [
        "import tensorflow as tf\n",
        "from tensorflow import keras\n",
        "if tf.__version__!='2.0.0':\n",
        "    !pip install 'tensorflow'==2.0.0"
      ],
      "execution_count": 0,
      "outputs": []
    },
    {
      "cell_type": "code",
      "metadata": {
        "id": "pvy9AMZHsb6F",
        "colab_type": "code",
        "colab": {
          "base_uri": "https://localhost:8080/",
          "height": 35
        },
        "outputId": "3317523c-459a-4542-b966-881052ea5a8f"
      },
      "source": [
        "X_prep_scaled.shape"
      ],
      "execution_count": 75,
      "outputs": [
        {
          "output_type": "execute_result",
          "data": {
            "text/plain": [
              "(30724, 105)"
            ]
          },
          "metadata": {
            "tags": []
          },
          "execution_count": 75
        }
      ]
    },
    {
      "cell_type": "code",
      "metadata": {
        "id": "r7rqrTaMsb0w",
        "colab_type": "code",
        "colab": {}
      },
      "source": [
        "def build_model():\n",
        "    model = keras.models.Sequential([\n",
        "            keras.layers.Input(shape=[105,]),\n",
        "            keras.layers.Dense(200, activation='relu'),\n",
        "            keras.layers.BatchNormalization(),\n",
        "            keras.layers.Dense(300, activation='relu'),\n",
        "            keras.layers.BatchNormalization(),\n",
        "            keras.layers.Dense(600, activation='relu'),\n",
        "            keras.layers.BatchNormalization(),\n",
        "            keras.layers.Dense(300, activation='relu'),\n",
        "            keras.layers.BatchNormalization(),\n",
        "            keras.layers.Dense(200, activation='relu'),\n",
        "            keras.layers.BatchNormalization(),\n",
        "            keras.layers.Dense(1, activation='sigmoid'),\n",
        "    ])\n",
        "    opt = keras.optimizers.Adam()\n",
        "    loss = keras.losses.BinaryCrossentropy()\n",
        "    model.compile(optimizer=opt, \n",
        "              loss=loss,  \n",
        "              metrics=['accuracy', ],\n",
        "              )\n",
        "    print(model.summary())\n",
        "    return model"
      ],
      "execution_count": 0,
      "outputs": []
    },
    {
      "cell_type": "markdown",
      "metadata": {
        "id": "v2iNv0oUElBp",
        "colab_type": "text"
      },
      "source": [
        "\n",
        "# Performing cross validation wrapping keras model in a keras classifier\n",
        "\n"
      ]
    },
    {
      "cell_type": "code",
      "metadata": {
        "id": "mrt1XDPd9FLS",
        "colab_type": "code",
        "colab": {
          "base_uri": "https://localhost:8080/",
          "height": 1000
        },
        "outputId": "c58e2f27-745b-403e-a5c9-3e37b968a03b"
      },
      "source": [
        "from keras.wrappers.scikit_learn import KerasClassifier\n",
        "\n",
        "keras_clf = KerasClassifier(build_model, epochs=50)\n",
        "\n",
        "scores = cross_val_score(keras_clf, X_prep_scaled, y, scoring='roc_auc', cv=3, verbose=True, )\n",
        "\n",
        "scores_means['NeuralNetwork'] = scores.mean()\n",
        "scores.mean()"
      ],
      "execution_count": 113,
      "outputs": [
        {
          "output_type": "stream",
          "text": [
            "[Parallel(n_jobs=1)]: Using backend SequentialBackend with 1 concurrent workers.\n"
          ],
          "name": "stderr"
        },
        {
          "output_type": "stream",
          "text": [
            "Model: \"sequential_15\"\n",
            "_________________________________________________________________\n",
            "Layer (type)                 Output Shape              Param #   \n",
            "=================================================================\n",
            "dense_90 (Dense)             (None, 200)               21200     \n",
            "_________________________________________________________________\n",
            "batch_normalization_75 (Batc (None, 200)               800       \n",
            "_________________________________________________________________\n",
            "dense_91 (Dense)             (None, 300)               60300     \n",
            "_________________________________________________________________\n",
            "batch_normalization_76 (Batc (None, 300)               1200      \n",
            "_________________________________________________________________\n",
            "dense_92 (Dense)             (None, 600)               180600    \n",
            "_________________________________________________________________\n",
            "batch_normalization_77 (Batc (None, 600)               2400      \n",
            "_________________________________________________________________\n",
            "dense_93 (Dense)             (None, 300)               180300    \n",
            "_________________________________________________________________\n",
            "batch_normalization_78 (Batc (None, 300)               1200      \n",
            "_________________________________________________________________\n",
            "dense_94 (Dense)             (None, 200)               60200     \n",
            "_________________________________________________________________\n",
            "batch_normalization_79 (Batc (None, 200)               800       \n",
            "_________________________________________________________________\n",
            "dense_95 (Dense)             (None, 1)                 201       \n",
            "=================================================================\n",
            "Total params: 509,201\n",
            "Trainable params: 506,001\n",
            "Non-trainable params: 3,200\n",
            "_________________________________________________________________\n",
            "None\n",
            "WARNING:tensorflow:Falling back from v2 loop because of error: Failed to find data adapter that can handle input: <class 'scipy.sparse.csr.csr_matrix'>, <class 'NoneType'>\n",
            "Train on 20482 samples\n",
            "Epoch 1/50\n",
            "20482/20482 [==============================] - 5s 263us/sample - loss: 0.3970 - accuracy: 0.8173\n",
            "Epoch 2/50\n",
            "20482/20482 [==============================] - 5s 246us/sample - loss: 0.3426 - accuracy: 0.8380\n",
            "Epoch 3/50\n",
            "20482/20482 [==============================] - 5s 247us/sample - loss: 0.3366 - accuracy: 0.8430\n",
            "Epoch 4/50\n",
            "20482/20482 [==============================] - 5s 241us/sample - loss: 0.3270 - accuracy: 0.8477\n",
            "Epoch 5/50\n",
            "20482/20482 [==============================] - 5s 247us/sample - loss: 0.3234 - accuracy: 0.8489\n",
            "Epoch 6/50\n",
            "20482/20482 [==============================] - 5s 245us/sample - loss: 0.3195 - accuracy: 0.8543\n",
            "Epoch 7/50\n",
            "20482/20482 [==============================] - 5s 239us/sample - loss: 0.3170 - accuracy: 0.8508\n",
            "Epoch 8/50\n",
            "20482/20482 [==============================] - 5s 252us/sample - loss: 0.3139 - accuracy: 0.8527\n",
            "Epoch 9/50\n",
            "20482/20482 [==============================] - 5s 250us/sample - loss: 0.3114 - accuracy: 0.8571\n",
            "Epoch 10/50\n",
            "20482/20482 [==============================] - 5s 253us/sample - loss: 0.3054 - accuracy: 0.8580\n",
            "Epoch 11/50\n",
            "20482/20482 [==============================] - 5s 256us/sample - loss: 0.3025 - accuracy: 0.8577\n",
            "Epoch 12/50\n",
            "20482/20482 [==============================] - 5s 249us/sample - loss: 0.3003 - accuracy: 0.8594\n",
            "Epoch 13/50\n",
            "20482/20482 [==============================] - 5s 247us/sample - loss: 0.2946 - accuracy: 0.8626\n",
            "Epoch 14/50\n",
            "20482/20482 [==============================] - 5s 249us/sample - loss: 0.2879 - accuracy: 0.8647\n",
            "Epoch 15/50\n",
            "20482/20482 [==============================] - 5s 250us/sample - loss: 0.2916 - accuracy: 0.8635\n",
            "Epoch 16/50\n",
            "20482/20482 [==============================] - 5s 240us/sample - loss: 0.2844 - accuracy: 0.8672\n",
            "Epoch 17/50\n",
            "20482/20482 [==============================] - 5s 252us/sample - loss: 0.2829 - accuracy: 0.8678\n",
            "Epoch 18/50\n",
            "20482/20482 [==============================] - 5s 247us/sample - loss: 0.2799 - accuracy: 0.8685\n",
            "Epoch 19/50\n",
            "20482/20482 [==============================] - 5s 244us/sample - loss: 0.2753 - accuracy: 0.8705\n",
            "Epoch 20/50\n",
            "20482/20482 [==============================] - 5s 252us/sample - loss: 0.2734 - accuracy: 0.8722\n",
            "Epoch 21/50\n",
            "20482/20482 [==============================] - 5s 247us/sample - loss: 0.2715 - accuracy: 0.8714\n",
            "Epoch 22/50\n",
            "20482/20482 [==============================] - 5s 262us/sample - loss: 0.2703 - accuracy: 0.8719\n",
            "Epoch 23/50\n",
            "20482/20482 [==============================] - 5s 247us/sample - loss: 0.2663 - accuracy: 0.8738\n",
            "Epoch 24/50\n",
            "20482/20482 [==============================] - 5s 253us/sample - loss: 0.2655 - accuracy: 0.8736\n",
            "Epoch 25/50\n",
            "20482/20482 [==============================] - 5s 244us/sample - loss: 0.2636 - accuracy: 0.8738\n",
            "Epoch 26/50\n",
            "20482/20482 [==============================] - 5s 245us/sample - loss: 0.2588 - accuracy: 0.8767\n",
            "Epoch 27/50\n",
            "20482/20482 [==============================] - 5s 248us/sample - loss: 0.2599 - accuracy: 0.8755\n",
            "Epoch 28/50\n",
            "20482/20482 [==============================] - 5s 251us/sample - loss: 0.2610 - accuracy: 0.8761\n",
            "Epoch 29/50\n",
            "20482/20482 [==============================] - 5s 243us/sample - loss: 0.2571 - accuracy: 0.8779\n",
            "Epoch 30/50\n",
            "20482/20482 [==============================] - 5s 247us/sample - loss: 0.2570 - accuracy: 0.8773\n",
            "Epoch 31/50\n",
            "20482/20482 [==============================] - 5s 243us/sample - loss: 0.2517 - accuracy: 0.8800\n",
            "Epoch 32/50\n",
            "20482/20482 [==============================] - 5s 247us/sample - loss: 0.2509 - accuracy: 0.8811\n",
            "Epoch 33/50\n",
            "20482/20482 [==============================] - 5s 244us/sample - loss: 0.2509 - accuracy: 0.8822\n",
            "Epoch 34/50\n",
            "20482/20482 [==============================] - 5s 263us/sample - loss: 0.2487 - accuracy: 0.8808\n",
            "Epoch 35/50\n",
            "20482/20482 [==============================] - 5s 243us/sample - loss: 0.2467 - accuracy: 0.8845\n",
            "Epoch 36/50\n",
            "20482/20482 [==============================] - 5s 245us/sample - loss: 0.2436 - accuracy: 0.8837\n",
            "Epoch 37/50\n",
            "20482/20482 [==============================] - 5s 245us/sample - loss: 0.2440 - accuracy: 0.8825\n",
            "Epoch 38/50\n",
            "20482/20482 [==============================] - 5s 243us/sample - loss: 0.2446 - accuracy: 0.8835\n",
            "Epoch 39/50\n",
            "20482/20482 [==============================] - 5s 250us/sample - loss: 0.2421 - accuracy: 0.8840\n",
            "Epoch 40/50\n",
            "20482/20482 [==============================] - 5s 246us/sample - loss: 0.2443 - accuracy: 0.8835\n",
            "Epoch 41/50\n",
            "20482/20482 [==============================] - 5s 244us/sample - loss: 0.2357 - accuracy: 0.8864\n",
            "Epoch 42/50\n",
            "20482/20482 [==============================] - 5s 239us/sample - loss: 0.2374 - accuracy: 0.8853\n",
            "Epoch 43/50\n",
            "20482/20482 [==============================] - 5s 249us/sample - loss: 0.2397 - accuracy: 0.8856\n",
            "Epoch 44/50\n",
            "20482/20482 [==============================] - 5s 241us/sample - loss: 0.2386 - accuracy: 0.8871\n",
            "Epoch 45/50\n",
            "20482/20482 [==============================] - 5s 252us/sample - loss: 0.2387 - accuracy: 0.8856\n",
            "Epoch 46/50\n",
            "20482/20482 [==============================] - 6s 276us/sample - loss: 0.2351 - accuracy: 0.8882\n",
            "Epoch 47/50\n",
            "20482/20482 [==============================] - 5s 251us/sample - loss: 0.2331 - accuracy: 0.8878\n",
            "Epoch 48/50\n",
            "20482/20482 [==============================] - 5s 246us/sample - loss: 0.2339 - accuracy: 0.8886\n",
            "Epoch 49/50\n",
            "20482/20482 [==============================] - 5s 247us/sample - loss: 0.2310 - accuracy: 0.8893\n",
            "Epoch 50/50\n",
            "20482/20482 [==============================] - 5s 245us/sample - loss: 0.2317 - accuracy: 0.8883\n",
            "WARNING:tensorflow:Falling back from v2 loop because of error: Failed to find data adapter that can handle input: <class 'scipy.sparse.csr.csr_matrix'>, <class 'NoneType'>\n",
            "Model: \"sequential_16\"\n",
            "_________________________________________________________________\n",
            "Layer (type)                 Output Shape              Param #   \n",
            "=================================================================\n",
            "dense_96 (Dense)             (None, 200)               21200     \n",
            "_________________________________________________________________\n",
            "batch_normalization_80 (Batc (None, 200)               800       \n",
            "_________________________________________________________________\n",
            "dense_97 (Dense)             (None, 300)               60300     \n",
            "_________________________________________________________________\n",
            "batch_normalization_81 (Batc (None, 300)               1200      \n",
            "_________________________________________________________________\n",
            "dense_98 (Dense)             (None, 600)               180600    \n",
            "_________________________________________________________________\n",
            "batch_normalization_82 (Batc (None, 600)               2400      \n",
            "_________________________________________________________________\n",
            "dense_99 (Dense)             (None, 300)               180300    \n",
            "_________________________________________________________________\n",
            "batch_normalization_83 (Batc (None, 300)               1200      \n",
            "_________________________________________________________________\n",
            "dense_100 (Dense)            (None, 200)               60200     \n",
            "_________________________________________________________________\n",
            "batch_normalization_84 (Batc (None, 200)               800       \n",
            "_________________________________________________________________\n",
            "dense_101 (Dense)            (None, 1)                 201       \n",
            "=================================================================\n",
            "Total params: 509,201\n",
            "Trainable params: 506,001\n",
            "Non-trainable params: 3,200\n",
            "_________________________________________________________________\n",
            "None\n",
            "WARNING:tensorflow:Falling back from v2 loop because of error: Failed to find data adapter that can handle input: <class 'scipy.sparse.csr.csr_matrix'>, <class 'NoneType'>\n",
            "Train on 20483 samples\n",
            "Epoch 1/50\n",
            "20483/20483 [==============================] - 5s 266us/sample - loss: 0.3960 - accuracy: 0.8166\n",
            "Epoch 2/50\n",
            "20483/20483 [==============================] - 5s 240us/sample - loss: 0.3452 - accuracy: 0.8365\n",
            "Epoch 3/50\n",
            "20483/20483 [==============================] - 5s 242us/sample - loss: 0.3368 - accuracy: 0.8401\n",
            "Epoch 4/50\n",
            "20483/20483 [==============================] - 5s 249us/sample - loss: 0.3306 - accuracy: 0.8439\n",
            "Epoch 5/50\n",
            "20483/20483 [==============================] - 5s 263us/sample - loss: 0.3271 - accuracy: 0.8461\n",
            "Epoch 6/50\n",
            "20483/20483 [==============================] - 6s 283us/sample - loss: 0.3248 - accuracy: 0.8480\n",
            "Epoch 7/50\n",
            "20483/20483 [==============================] - 5s 243us/sample - loss: 0.3203 - accuracy: 0.8499\n",
            "Epoch 8/50\n",
            "20483/20483 [==============================] - 5s 247us/sample - loss: 0.3167 - accuracy: 0.8498\n",
            "Epoch 9/50\n",
            "20483/20483 [==============================] - 5s 247us/sample - loss: 0.3127 - accuracy: 0.8523\n",
            "Epoch 10/50\n",
            "20483/20483 [==============================] - 5s 243us/sample - loss: 0.3114 - accuracy: 0.8539\n",
            "Epoch 11/50\n",
            "20483/20483 [==============================] - 5s 244us/sample - loss: 0.3059 - accuracy: 0.8556\n",
            "Epoch 12/50\n",
            "20483/20483 [==============================] - 5s 246us/sample - loss: 0.2990 - accuracy: 0.8580\n",
            "Epoch 13/50\n",
            "20483/20483 [==============================] - 5s 248us/sample - loss: 0.2977 - accuracy: 0.8586\n",
            "Epoch 14/50\n",
            "20483/20483 [==============================] - 5s 239us/sample - loss: 0.2886 - accuracy: 0.8636\n",
            "Epoch 15/50\n",
            "20483/20483 [==============================] - 5s 249us/sample - loss: 0.2915 - accuracy: 0.8650\n",
            "Epoch 16/50\n",
            "20483/20483 [==============================] - 5s 247us/sample - loss: 0.2843 - accuracy: 0.8664\n",
            "Epoch 17/50\n",
            "20483/20483 [==============================] - 5s 246us/sample - loss: 0.2830 - accuracy: 0.8675\n",
            "Epoch 18/50\n",
            "20483/20483 [==============================] - 5s 262us/sample - loss: 0.2791 - accuracy: 0.8665\n",
            "Epoch 19/50\n",
            "20483/20483 [==============================] - 5s 249us/sample - loss: 0.2743 - accuracy: 0.8711\n",
            "Epoch 20/50\n",
            "20483/20483 [==============================] - 5s 256us/sample - loss: 0.2742 - accuracy: 0.8712\n",
            "Epoch 21/50\n",
            "20483/20483 [==============================] - 5s 250us/sample - loss: 0.2728 - accuracy: 0.8723\n",
            "Epoch 22/50\n",
            "20483/20483 [==============================] - 5s 247us/sample - loss: 0.2672 - accuracy: 0.8736\n",
            "Epoch 23/50\n",
            "20483/20483 [==============================] - 5s 238us/sample - loss: 0.2645 - accuracy: 0.8748\n",
            "Epoch 24/50\n",
            "20483/20483 [==============================] - 5s 254us/sample - loss: 0.2625 - accuracy: 0.8739\n",
            "Epoch 25/50\n",
            "20483/20483 [==============================] - 5s 242us/sample - loss: 0.2612 - accuracy: 0.8751\n",
            "Epoch 26/50\n",
            "20483/20483 [==============================] - 5s 234us/sample - loss: 0.2577 - accuracy: 0.8783\n",
            "Epoch 27/50\n",
            "20483/20483 [==============================] - 5s 246us/sample - loss: 0.2572 - accuracy: 0.8767\n",
            "Epoch 28/50\n",
            "20483/20483 [==============================] - 5s 241us/sample - loss: 0.2527 - accuracy: 0.8780\n",
            "Epoch 29/50\n",
            "20483/20483 [==============================] - 5s 243us/sample - loss: 0.2499 - accuracy: 0.8819\n",
            "Epoch 30/50\n",
            "20483/20483 [==============================] - 5s 262us/sample - loss: 0.2533 - accuracy: 0.8803\n",
            "Epoch 31/50\n",
            "20483/20483 [==============================] - 5s 247us/sample - loss: 0.2483 - accuracy: 0.8809\n",
            "Epoch 32/50\n",
            "20483/20483 [==============================] - 5s 246us/sample - loss: 0.2467 - accuracy: 0.8835\n",
            "Epoch 33/50\n",
            "20483/20483 [==============================] - 5s 248us/sample - loss: 0.2442 - accuracy: 0.8848\n",
            "Epoch 34/50\n",
            "20483/20483 [==============================] - 5s 243us/sample - loss: 0.2400 - accuracy: 0.8858\n",
            "Epoch 35/50\n",
            "20483/20483 [==============================] - 5s 240us/sample - loss: 0.2441 - accuracy: 0.8831\n",
            "Epoch 36/50\n",
            "20483/20483 [==============================] - 5s 252us/sample - loss: 0.2448 - accuracy: 0.8841\n",
            "Epoch 37/50\n",
            "20483/20483 [==============================] - 5s 246us/sample - loss: 0.2424 - accuracy: 0.8860\n",
            "Epoch 38/50\n",
            "20483/20483 [==============================] - 5s 237us/sample - loss: 0.2385 - accuracy: 0.8868\n",
            "Epoch 39/50\n",
            "20483/20483 [==============================] - 5s 248us/sample - loss: 0.2389 - accuracy: 0.8863\n",
            "Epoch 40/50\n",
            "20483/20483 [==============================] - 5s 248us/sample - loss: 0.2348 - accuracy: 0.8876\n",
            "Epoch 41/50\n",
            "20483/20483 [==============================] - 5s 241us/sample - loss: 0.2350 - accuracy: 0.8867\n",
            "Epoch 42/50\n",
            "20483/20483 [==============================] - 5s 261us/sample - loss: 0.2380 - accuracy: 0.8870\n",
            "Epoch 43/50\n",
            "20483/20483 [==============================] - 5s 250us/sample - loss: 0.2332 - accuracy: 0.8880\n",
            "Epoch 44/50\n",
            "20483/20483 [==============================] - 5s 243us/sample - loss: 0.2296 - accuracy: 0.8878\n",
            "Epoch 45/50\n",
            "20483/20483 [==============================] - 5s 245us/sample - loss: 0.2323 - accuracy: 0.8879\n",
            "Epoch 46/50\n",
            "20483/20483 [==============================] - 5s 248us/sample - loss: 0.2288 - accuracy: 0.8903\n",
            "Epoch 47/50\n",
            "20483/20483 [==============================] - 5s 242us/sample - loss: 0.2294 - accuracy: 0.8889\n",
            "Epoch 48/50\n",
            "20483/20483 [==============================] - 5s 249us/sample - loss: 0.2277 - accuracy: 0.8907\n",
            "Epoch 49/50\n",
            "20483/20483 [==============================] - 5s 253us/sample - loss: 0.2233 - accuracy: 0.8934\n",
            "Epoch 50/50\n",
            "20483/20483 [==============================] - 5s 244us/sample - loss: 0.2277 - accuracy: 0.8907\n",
            "WARNING:tensorflow:Falling back from v2 loop because of error: Failed to find data adapter that can handle input: <class 'scipy.sparse.csr.csr_matrix'>, <class 'NoneType'>\n",
            "Model: \"sequential_17\"\n",
            "_________________________________________________________________\n",
            "Layer (type)                 Output Shape              Param #   \n",
            "=================================================================\n",
            "dense_102 (Dense)            (None, 200)               21200     \n",
            "_________________________________________________________________\n",
            "batch_normalization_85 (Batc (None, 200)               800       \n",
            "_________________________________________________________________\n",
            "dense_103 (Dense)            (None, 300)               60300     \n",
            "_________________________________________________________________\n",
            "batch_normalization_86 (Batc (None, 300)               1200      \n",
            "_________________________________________________________________\n",
            "dense_104 (Dense)            (None, 600)               180600    \n",
            "_________________________________________________________________\n",
            "batch_normalization_87 (Batc (None, 600)               2400      \n",
            "_________________________________________________________________\n",
            "dense_105 (Dense)            (None, 300)               180300    \n",
            "_________________________________________________________________\n",
            "batch_normalization_88 (Batc (None, 300)               1200      \n",
            "_________________________________________________________________\n",
            "dense_106 (Dense)            (None, 200)               60200     \n",
            "_________________________________________________________________\n",
            "batch_normalization_89 (Batc (None, 200)               800       \n",
            "_________________________________________________________________\n",
            "dense_107 (Dense)            (None, 1)                 201       \n",
            "=================================================================\n",
            "Total params: 509,201\n",
            "Trainable params: 506,001\n",
            "Non-trainable params: 3,200\n",
            "_________________________________________________________________\n",
            "None\n",
            "WARNING:tensorflow:Falling back from v2 loop because of error: Failed to find data adapter that can handle input: <class 'scipy.sparse.csr.csr_matrix'>, <class 'NoneType'>\n",
            "Train on 20483 samples\n",
            "Epoch 1/50\n",
            "20483/20483 [==============================] - 5s 268us/sample - loss: 0.4000 - accuracy: 0.8139\n",
            "Epoch 2/50\n",
            "20483/20483 [==============================] - 5s 261us/sample - loss: 0.3439 - accuracy: 0.8396\n",
            "Epoch 3/50\n",
            "20483/20483 [==============================] - 5s 250us/sample - loss: 0.3372 - accuracy: 0.8417\n",
            "Epoch 4/50\n",
            "20483/20483 [==============================] - 5s 245us/sample - loss: 0.3347 - accuracy: 0.8449\n",
            "Epoch 5/50\n",
            "20483/20483 [==============================] - 5s 246us/sample - loss: 0.3271 - accuracy: 0.8496\n",
            "Epoch 6/50\n",
            "20483/20483 [==============================] - 5s 243us/sample - loss: 0.3240 - accuracy: 0.8517\n",
            "Epoch 7/50\n",
            "20483/20483 [==============================] - 5s 236us/sample - loss: 0.3247 - accuracy: 0.8466\n",
            "Epoch 8/50\n",
            "20483/20483 [==============================] - 5s 245us/sample - loss: 0.3164 - accuracy: 0.8511\n",
            "Epoch 9/50\n",
            "20483/20483 [==============================] - 5s 245us/sample - loss: 0.3190 - accuracy: 0.8505\n",
            "Epoch 10/50\n",
            "20483/20483 [==============================] - 5s 239us/sample - loss: 0.3119 - accuracy: 0.8553\n",
            "Epoch 11/50\n",
            "20483/20483 [==============================] - 5s 248us/sample - loss: 0.3075 - accuracy: 0.8550\n",
            "Epoch 12/50\n",
            "20483/20483 [==============================] - 5s 249us/sample - loss: 0.3029 - accuracy: 0.8587\n",
            "Epoch 13/50\n",
            "20483/20483 [==============================] - 5s 259us/sample - loss: 0.3020 - accuracy: 0.8573\n",
            "Epoch 14/50\n",
            "20483/20483 [==============================] - 5s 267us/sample - loss: 0.2960 - accuracy: 0.8614\n",
            "Epoch 15/50\n",
            "20483/20483 [==============================] - 5s 268us/sample - loss: 0.2955 - accuracy: 0.8627\n",
            "Epoch 16/50\n",
            "20483/20483 [==============================] - 5s 256us/sample - loss: 0.2888 - accuracy: 0.8624\n",
            "Epoch 17/50\n",
            "20483/20483 [==============================] - 5s 253us/sample - loss: 0.2856 - accuracy: 0.8662\n",
            "Epoch 18/50\n",
            "20483/20483 [==============================] - 5s 244us/sample - loss: 0.2834 - accuracy: 0.8650\n",
            "Epoch 19/50\n",
            "20483/20483 [==============================] - 5s 248us/sample - loss: 0.2804 - accuracy: 0.8687\n",
            "Epoch 20/50\n",
            "20483/20483 [==============================] - 5s 248us/sample - loss: 0.2811 - accuracy: 0.8667\n",
            "Epoch 21/50\n",
            "20483/20483 [==============================] - 5s 245us/sample - loss: 0.2745 - accuracy: 0.8679\n",
            "Epoch 22/50\n",
            "20483/20483 [==============================] - 5s 243us/sample - loss: 0.2720 - accuracy: 0.8713\n",
            "Epoch 23/50\n",
            "20483/20483 [==============================] - 5s 257us/sample - loss: 0.2678 - accuracy: 0.8734\n",
            "Epoch 24/50\n",
            "20483/20483 [==============================] - 5s 251us/sample - loss: 0.2675 - accuracy: 0.8727\n",
            "Epoch 25/50\n",
            "20483/20483 [==============================] - 5s 260us/sample - loss: 0.2650 - accuracy: 0.8742\n",
            "Epoch 26/50\n",
            "20483/20483 [==============================] - 5s 248us/sample - loss: 0.2637 - accuracy: 0.8752\n",
            "Epoch 27/50\n",
            "20483/20483 [==============================] - 5s 248us/sample - loss: 0.2621 - accuracy: 0.8755\n",
            "Epoch 28/50\n",
            "20483/20483 [==============================] - 5s 248us/sample - loss: 0.2578 - accuracy: 0.8757\n",
            "Epoch 29/50\n",
            "20483/20483 [==============================] - 5s 248us/sample - loss: 0.2564 - accuracy: 0.8772\n",
            "Epoch 30/50\n",
            "20483/20483 [==============================] - 5s 238us/sample - loss: 0.2571 - accuracy: 0.8770\n",
            "Epoch 31/50\n",
            "20483/20483 [==============================] - 5s 248us/sample - loss: 0.2564 - accuracy: 0.8771\n",
            "Epoch 32/50\n",
            "20483/20483 [==============================] - 5s 253us/sample - loss: 0.2546 - accuracy: 0.8782\n",
            "Epoch 33/50\n",
            "20483/20483 [==============================] - 5s 239us/sample - loss: 0.2523 - accuracy: 0.8778\n",
            "Epoch 34/50\n",
            "20483/20483 [==============================] - 5s 244us/sample - loss: 0.2562 - accuracy: 0.8776\n",
            "Epoch 35/50\n",
            "20483/20483 [==============================] - 5s 253us/sample - loss: 0.2527 - accuracy: 0.8788\n",
            "Epoch 36/50\n",
            "20483/20483 [==============================] - 5s 250us/sample - loss: 0.2474 - accuracy: 0.8796\n",
            "Epoch 37/50\n",
            "20483/20483 [==============================] - 5s 257us/sample - loss: 0.2478 - accuracy: 0.8812\n",
            "Epoch 38/50\n",
            "20483/20483 [==============================] - 5s 250us/sample - loss: 0.2431 - accuracy: 0.8830\n",
            "Epoch 39/50\n",
            "20483/20483 [==============================] - 5s 246us/sample - loss: 0.2441 - accuracy: 0.8817\n",
            "Epoch 40/50\n",
            "20483/20483 [==============================] - 5s 243us/sample - loss: 0.2472 - accuracy: 0.8818\n",
            "Epoch 41/50\n",
            "20483/20483 [==============================] - 5s 244us/sample - loss: 0.2426 - accuracy: 0.8835\n",
            "Epoch 42/50\n",
            "20483/20483 [==============================] - 5s 242us/sample - loss: 0.2434 - accuracy: 0.8841\n",
            "Epoch 43/50\n",
            "20483/20483 [==============================] - 5s 248us/sample - loss: 0.2407 - accuracy: 0.8831\n",
            "Epoch 44/50\n",
            "20483/20483 [==============================] - 5s 247us/sample - loss: 0.2379 - accuracy: 0.8848\n",
            "Epoch 45/50\n",
            "20483/20483 [==============================] - 5s 240us/sample - loss: 0.2384 - accuracy: 0.8840\n",
            "Epoch 46/50\n",
            "20483/20483 [==============================] - 5s 259us/sample - loss: 0.2394 - accuracy: 0.8844\n",
            "Epoch 47/50\n",
            "20483/20483 [==============================] - 5s 252us/sample - loss: 0.2380 - accuracy: 0.8860\n",
            "Epoch 48/50\n",
            "20483/20483 [==============================] - 5s 250us/sample - loss: 0.2329 - accuracy: 0.8883\n",
            "Epoch 49/50\n",
            "20483/20483 [==============================] - 5s 249us/sample - loss: 0.2334 - accuracy: 0.8871\n",
            "Epoch 50/50\n",
            "20483/20483 [==============================] - 5s 246us/sample - loss: 0.2336 - accuracy: 0.8872\n",
            "WARNING:tensorflow:Falling back from v2 loop because of error: Failed to find data adapter that can handle input: <class 'scipy.sparse.csr.csr_matrix'>, <class 'NoneType'>\n"
          ],
          "name": "stdout"
        },
        {
          "output_type": "stream",
          "text": [
            "[Parallel(n_jobs=1)]: Done   3 out of   3 | elapsed: 13.1min finished\n"
          ],
          "name": "stderr"
        },
        {
          "output_type": "execute_result",
          "data": {
            "text/plain": [
              "0.8884666454646165"
            ]
          },
          "metadata": {
            "tags": []
          },
          "execution_count": 113
        }
      ]
    },
    {
      "cell_type": "code",
      "metadata": {
        "id": "gpZ7bird_EmT",
        "colab_type": "code",
        "colab": {
          "base_uri": "https://localhost:8080/",
          "height": 146
        },
        "outputId": "bb4ff012-15c8-4310-f0b7-f0cdbd90c4f1"
      },
      "source": [
        "scores_means"
      ],
      "execution_count": 117,
      "outputs": [
        {
          "output_type": "execute_result",
          "data": {
            "text/plain": [
              "{'Gradient Boosting Classifier': 0.9134114842541328,\n",
              " 'Gradient Boosting Classifier no Scaling': 0.8748671007172799,\n",
              " 'Gradient Boosting Classifier tutte le feature': 0.9134147139566707,\n",
              " 'KNN 25': 0.8884666454646165,\n",
              " 'NeuralNetwork': 0.869899011900903,\n",
              " 'Random Forest Classifier': 0.8889476659398479,\n",
              " 'SVM poly degree=4': 0.8742096618745595}"
            ]
          },
          "metadata": {
            "tags": []
          },
          "execution_count": 117
        }
      ]
    },
    {
      "cell_type": "code",
      "metadata": {
        "id": "AraIgGwgrZiJ",
        "colab_type": "code",
        "colab": {
          "base_uri": "https://localhost:8080/",
          "height": 35
        },
        "outputId": "c2aff2dc-87d3-44bb-9853-1f84a4e8ea99"
      },
      "source": [
        "l = [1,2,3,5]\n",
        "list(enumerate(l))"
      ],
      "execution_count": 115,
      "outputs": [
        {
          "output_type": "execute_result",
          "data": {
            "text/plain": [
              "[(0, 1), (1, 2), (2, 3), (3, 5)]"
            ]
          },
          "metadata": {
            "tags": []
          },
          "execution_count": 115
        }
      ]
    }
  ]
}